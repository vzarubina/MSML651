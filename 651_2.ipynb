{
 "cells": [
  {
   "cell_type": "code",
   "execution_count": 2,
   "id": "ecb77680-6127-4678-b888-9db040403f13",
   "metadata": {},
   "outputs": [
    {
     "name": "stdout",
     "output_type": "stream",
     "text": [
      "env: SPARK_HOME=/Users/victoriazarubina/Downloads/spark-3.1.1-bin-hadoop2.7\n"
     ]
    }
   ],
   "source": [
    "%env SPARK_HOME=/Users/victoriazarubina/Downloads/spark-3.1.1-bin-hadoop2.7\n",
    "%config IPCompleter.greedy=True\n",
    "#!pip install findspark\n",
    "#!pip install pyspark\n",
    "import findspark\n",
    "#findspark.init(\"/Users/victoriazarubina/Downloads/spark-3.1.1-bin-hadoop2.7\")\n",
    "findspark.find()\n",
    "\n",
    "import pyspark\n",
    "\n",
    "findspark.init()\n",
    "from pyspark.sql import SparkSession\n",
    "import pandas as pd\n",
    "import numpy as np"
   ]
  },
  {
   "cell_type": "code",
   "execution_count": 3,
   "id": "f2a7c882-a2ad-4eee-8334-58e0ec87d071",
   "metadata": {},
   "outputs": [
    {
     "name": "stdout",
     "output_type": "stream",
     "text": [
      "error found, recovering and creating spark connection\n"
     ]
    },
    {
     "data": {
      "text/plain": [
       "'3.1.1'"
      ]
     },
     "execution_count": 3,
     "metadata": {},
     "output_type": "execute_result"
    }
   ],
   "source": [
    "#get spark session, close it if it already exists, otherwise create a new one\n",
    "try:\n",
    "    if sc is None:\n",
    "        print(\"sc is not defined\")\n",
    "except Exception:\n",
    "        print(\"error found, recovering and creating spark connection\")\n",
    "else:\n",
    "        print(\"old sc found, stopping it now\")    \n",
    "        sc.stop()\n",
    "        print(\"stopped old sc\")\n",
    "\n",
    "conf = pyspark.SparkConf().setAppName('app').setMaster('local[2]')\n",
    "sc = pyspark.SparkContext(conf=conf)\n",
    "\n",
    "sc.setSystemProperty('spark.executor.memory','15g')\n",
    "spark = SparkSession(sc)\n",
    "\"created spark session\"\n",
    "sc.version"
   ]
  },
  {
   "cell_type": "code",
   "execution_count": 4,
   "id": "1fedfa95-25e0-4691-99b8-d2ed0b16929a",
   "metadata": {},
   "outputs": [],
   "source": [
    "from pyspark.sql import SparkSession\n",
    "from pyspark.conf import SparkConf\n",
    "from pyspark.sql.types import * \n",
    "import pyspark.sql.functions as F\n",
    "from pyspark.sql.functions import col, asc,desc\n",
    "import matplotlib.pyplot as plt\n",
    "import numpy as np\n",
    "from pyspark.sql import SQLContext\n",
    "from pyspark.mllib.stat import Statistics\n",
    "import pandas as pd\n",
    "from pyspark.sql.functions import udf\n",
    "from pyspark.ml.feature import OneHotEncoder, StringIndexer, VectorAssembler,StandardScaler\n",
    "from pyspark.ml import Pipeline\n",
    "from sklearn.metrics import confusion_matrix\n"
   ]
  },
  {
   "cell_type": "code",
   "execution_count": null,
   "id": "b3d32f1c-bf7e-482a-9718-112b20b94e9d",
   "metadata": {},
   "outputs": [],
   "source": []
  },
  {
   "cell_type": "code",
   "execution_count": 5,
   "id": "b976261c-3113-4ee3-aa4d-8c9a42ed7e01",
   "metadata": {},
   "outputs": [],
   "source": [
    "#read in data\n",
    "data = spark.read.csv(\"airline_2m.csv\",\n",
    "                     sep=\",\", inferSchema=\"true\", header=\"true\")"
   ]
  },
  {
   "cell_type": "code",
   "execution_count": null,
   "id": "cc709826-5951-4905-93e5-aa5604eb5a76",
   "metadata": {},
   "outputs": [],
   "source": [
    "data.show()"
   ]
  },
  {
   "cell_type": "code",
   "execution_count": 103,
   "id": "daf586f5-31df-41ec-a666-3e04370e0b8f",
   "metadata": {},
   "outputs": [
    {
     "name": "stdout",
     "output_type": "stream",
     "text": [
      "(2000000, 109)\n"
     ]
    }
   ],
   "source": [
    "print((data.count(), len(data.columns)))"
   ]
  },
  {
   "cell_type": "code",
   "execution_count": 107,
   "id": "d42e2daa-bff7-4f83-938c-d740918e6fbb",
   "metadata": {},
   "outputs": [
    {
     "name": "stdout",
     "output_type": "stream",
     "text": [
      "+-------+-----------+-------------+----------------+------------+--------------+----------------+-------------+-----------+\n",
      "|summary|Div3Airport|Div3AirportID|Div3AirportSeqID|Div3WheelsOn|Div3TotalGTime|Div3LongestGTime|Div3WheelsOff|Div3TailNum|\n",
      "+-------+-----------+-------------+----------------+------------+--------------+----------------+-------------+-----------+\n",
      "|  count|          0|            0|               0|           0|             0|               0|            0|          0|\n",
      "|    min|       null|         null|            null|        null|          null|            null|         null|       null|\n",
      "|    25%|       null|         null|            null|        null|          null|            null|         null|       null|\n",
      "|    75%|       null|         null|            null|        null|          null|            null|         null|       null|\n",
      "|    max|       null|         null|            null|        null|          null|            null|         null|       null|\n",
      "+-------+-----------+-------------+----------------+------------+--------------+----------------+-------------+-----------+\n",
      "\n"
     ]
    }
   ],
   "source": [
    "data.select(\"Div3Airport\",\"Div3AirportID\",\"Div3AirportSeqID\",\"Div3WheelsOn\",\"Div3TotalGTime\",\"Div3LongestGTime\",\n",
    "            \"Div3WheelsOff\",\"Div3TailNum\").summary(\"count\", \"min\", \"25%\", \"75%\", \"max\").show()"
   ]
  },
  {
   "cell_type": "code",
   "execution_count": 108,
   "id": "76982e65-7d95-4158-b262-6b4d42266bcb",
   "metadata": {},
   "outputs": [
    {
     "name": "stdout",
     "output_type": "stream",
     "text": [
      "+-------+-----------+-------------+----------------+------------+--------------+----------------+-------------+-----------+\n",
      "|summary|Div4Airport|Div4AirportID|Div4AirportSeqID|Div4WheelsOn|Div4TotalGTime|Div4LongestGTime|Div4WheelsOff|Div4TailNum|\n",
      "+-------+-----------+-------------+----------------+------------+--------------+----------------+-------------+-----------+\n",
      "|  count|          0|            0|               0|           0|             0|               0|            0|          0|\n",
      "|    min|       null|         null|            null|        null|          null|            null|         null|       null|\n",
      "|    25%|       null|         null|            null|        null|          null|            null|         null|       null|\n",
      "|    75%|       null|         null|            null|        null|          null|            null|         null|       null|\n",
      "|    max|       null|         null|            null|        null|          null|            null|         null|       null|\n",
      "+-------+-----------+-------------+----------------+------------+--------------+----------------+-------------+-----------+\n",
      "\n"
     ]
    }
   ],
   "source": [
    "data.select(\"Div4Airport\",\"Div4AirportID\",\"Div4AirportSeqID\",\"Div4WheelsOn\",\"Div4TotalGTime\",\"Div4LongestGTime\",\n",
    "            \"Div4WheelsOff\",\"Div4TailNum\").summary(\"count\", \"min\", \"25%\", \"75%\", \"max\").show()"
   ]
  },
  {
   "cell_type": "code",
   "execution_count": 109,
   "id": "5f89840d-06dc-4838-a612-a63e08b5f207",
   "metadata": {},
   "outputs": [
    {
     "name": "stdout",
     "output_type": "stream",
     "text": [
      "+-------+-----------+-------------+----------------+------------+--------------+----------------+-------------+-----------+\n",
      "|summary|Div5Airport|Div5AirportID|Div5AirportSeqID|Div5WheelsOn|Div5TotalGTime|Div5LongestGTime|Div5WheelsOff|Div5TailNum|\n",
      "+-------+-----------+-------------+----------------+------------+--------------+----------------+-------------+-----------+\n",
      "|  count|          0|            0|               0|           0|             0|               0|            0|          0|\n",
      "|    min|       null|         null|            null|        null|          null|            null|         null|       null|\n",
      "|    25%|       null|         null|            null|        null|          null|            null|         null|       null|\n",
      "|    75%|       null|         null|            null|        null|          null|            null|         null|       null|\n",
      "|    max|       null|         null|            null|        null|          null|            null|         null|       null|\n",
      "+-------+-----------+-------------+----------------+------------+--------------+----------------+-------------+-----------+\n",
      "\n"
     ]
    }
   ],
   "source": [
    "data.select(\"Div5Airport\",\"Div5AirportID\",\"Div5AirportSeqID\",\"Div5WheelsOn\",\"Div5TotalGTime\",\n",
    "              \"Div5LongestGTime\",\"Div5WheelsOff\",\"Div5TailNum\").summary(\"count\", \"min\", \"25%\", \"75%\", \"max\").show()"
   ]
  },
  {
   "cell_type": "code",
   "execution_count": 6,
   "id": "85b3f963-a15a-4b40-a6c1-8bff90d82777",
   "metadata": {},
   "outputs": [],
   "source": [
    "#all of these are empty\n",
    "data_short = data.drop(\"Div3Airport\",\"Div3AirportID\",\"Div3AirportSeqID\",\"Div3WheelsOn\",\"Div3TotalGTime\",\"Div3LongestGTime\",\"Div3WheelsOff\",\n",
    "              \"Div3TailNum\",\"Div4Airport\",\"Div4AirportID\",\"Div4AirportSeqID\",\"Div4WheelsOn\",\"Div4TotalGTime\",\"Div4LongestGTime\",\n",
    "              \"Div4WheelsOff\",\"Div4TailNum\",\"Div5Airport\",\"Div5AirportID\",\"Div5AirportSeqID\",\"Div5WheelsOn\",\"Div5TotalGTime\",\n",
    "              \"Div5LongestGTime\",\"Div5WheelsOff\",\"Div5TailNum\")"
   ]
  },
  {
   "cell_type": "code",
   "execution_count": 111,
   "id": "494739ee-bf3d-48d7-a6dc-0d63f32c2f4f",
   "metadata": {},
   "outputs": [
    {
     "name": "stdout",
     "output_type": "stream",
     "text": [
      "(2000000, 85)\n"
     ]
    }
   ],
   "source": [
    "print((data_short.count(), len(data_short.columns)))"
   ]
  },
  {
   "cell_type": "code",
   "execution_count": 7,
   "id": "bc2e6242-ae43-4238-b56f-b11fbe2edaf8",
   "metadata": {},
   "outputs": [],
   "source": [
    "#dropping more columns\n",
    "df = data_short.drop(\"Quarter\",\"FlightDate\",\"DOT_ID_Reporting_Airline\",\"Div1Airport\",\"Div1AirportID\",\n",
    "                     \"IATA_CODE_Reporting_Airline\",\"Tail_Number\",\"Flight_Number_Reporting_Airline\",\"OriginAirportID\",\"OriginAirportSeqID\",\n",
    "                     \"OriginCityMarketID\",\"Origin\",\"OriginCityName\",\"OriginState\",\"OriginStateFips\",\"OriginStateName\",\"OriginWac\",\"DestAirportID\",\n",
    "                     \"DestAirportSeqID\",\"DestCityMarketID\",\"Dest\",\"DestCityName\",\"DestState\",\"DestStateFips\",\"DestStateName\",\"DestWac\",\n",
    "                     \"CRSDepTime\",\"DepTime\",\"DepDelayMinutes\",\"DepDel15\",\"DepartureDelayGroups\",\"DepTimeBlk\",\"TaxiOut\",\"WheelsOff\",\n",
    "                     \"WheelsOn\",\"TaxiIn\",\"CRSArrTime\",\"ArrTime\",\"ArrDelayMinutes\",\"ArrDel15\",\"ArrivalDelayGroups\",\"ArrTimeBlk\",\n",
    "                     \"Cancelled\",\"CancellationCode\",\"Diverted\",\"CRSElapsedTime\",\"ActualElapsedTime\",\"AirTime\",\"Flights\",\"Distance\",\n",
    "                     \"DistanceGroup\",\"CarrierDelay\",\"WeatherDelay\",\"NASDelay\",\"SecurityDelay\",\"LateAircraftDelay\",\"FirstDepTime\",\n",
    "                     \"TotalAddGTime\",\"LongestAddGTime\",\"DivAirportLandings\",\"DivReachedDest\",\"DivActualElapsedTime\",\"DivArrDelay\",\"DivDistance\",\"Div1Airport\"\n",
    "                     \"Div1AirportID\",\"Div1AirportSeqID\",\"Div1WheelsOn\",\"Div1TotalGTime\",\"Div1LongestGTime\",\"Div1WheelsOff\",\"Div1TailNum\",\"Div2Airport\",\n",
    "                     \"Div2AirportID\",\"Div2AirportSeqID\",\"Div2WheelsOn\",\"Div2TotalGTime\",\"Div2LongestGTime\",\"Div2WheelsOff\",\"Div2TailNum\")\n",
    "\n"
   ]
  },
  {
   "cell_type": "code",
   "execution_count": 150,
   "id": "9546a2d4-0000-4b51-b597-98c08b945038",
   "metadata": {},
   "outputs": [],
   "source": [
    "#dropping more columns\n",
    "df_w_arrdelay15 = data_short.drop(\"Quarter\",\"FlightDate\",\"DOT_ID_Reporting_Airline\",\"Div1Airport\",\"Div1AirportID\",\n",
    "                     \"IATA_CODE_Reporting_Airline\",\"Tail_Number\",\"Flight_Number_Reporting_Airline\",\"OriginAirportID\",\"OriginAirportSeqID\",\n",
    "                     \"OriginCityMarketID\",\"Origin\",\"OriginCityName\",\"OriginState\",\"OriginStateFips\",\"OriginStateName\",\"OriginWac\",\"DestAirportID\",\n",
    "                     \"DestAirportSeqID\",\"DestCityMarketID\",\"Dest\",\"DestCityName\",\"DestState\",\"DestStateFips\",\"DestStateName\",\"DestWac\",\n",
    "                     \"CRSDepTime\",\"DepTime\",\"DepDelayMinutes\",\"DepDel15\",\"DepartureDelayGroups\",\"DepTimeBlk\",\"TaxiOut\",\"WheelsOff\",\n",
    "                     \"WheelsOn\",\"TaxiIn\",\"CRSArrTime\",\"ArrTime\",\"ArrDelayMinutes\",\"ArrivalDelayGroups\",\"ArrTimeBlk\",\n",
    "                     \"Cancelled\",\"CancellationCode\",\"Diverted\",\"CRSElapsedTime\",\"ActualElapsedTime\",\"AirTime\",\"Flights\",\"Distance\",\n",
    "                     \"DistanceGroup\",\"CarrierDelay\",\"WeatherDelay\",\"NASDelay\",\"SecurityDelay\",\"LateAircraftDelay\",\"FirstDepTime\",\n",
    "                     \"TotalAddGTime\",\"LongestAddGTime\",\"DivAirportLandings\",\"DivReachedDest\",\"DivActualElapsedTime\",\"DivArrDelay\",\"DivDistance\",\"Div1Airport\"\n",
    "                     \"Div1AirportID\",\"Div1AirportSeqID\",\"Div1WheelsOn\",\"Div1TotalGTime\",\"Div1LongestGTime\",\"Div1WheelsOff\",\"Div1TailNum\",\"Div2Airport\",\n",
    "                     \"Div2AirportID\",\"Div2AirportSeqID\",\"Div2WheelsOn\",\"Div2TotalGTime\",\"Div2LongestGTime\",\"Div2WheelsOff\",\"Div2TailNum\")\n",
    "\n"
   ]
  },
  {
   "cell_type": "code",
   "execution_count": 143,
   "id": "7c45702c-d4ea-45d6-bf37-ec3a6eecc18d",
   "metadata": {},
   "outputs": [
    {
     "name": "stdout",
     "output_type": "stream",
     "text": [
      "root\n",
      " |-- Year: integer (nullable = true)\n",
      " |-- Month: integer (nullable = true)\n",
      " |-- DayofMonth: integer (nullable = true)\n",
      " |-- DayOfWeek: integer (nullable = true)\n",
      " |-- Reporting_Airline: string (nullable = true)\n",
      " |-- DepDelay: double (nullable = true)\n",
      " |-- ArrDelay: double (nullable = true)\n",
      "\n"
     ]
    }
   ],
   "source": [
    "df.printSchema()"
   ]
  },
  {
   "cell_type": "code",
   "execution_count": 125,
   "id": "222b5713-793d-4d06-8e9a-11fc2734a18f",
   "metadata": {},
   "outputs": [
    {
     "name": "stdout",
     "output_type": "stream",
     "text": [
      "+-------+--------+\n",
      "|summary|ArrDelay|\n",
      "+-------+--------+\n",
      "|  count| 1958922|\n",
      "|    min|  -706.0|\n",
      "|    25%|   -10.0|\n",
      "|    50%|    -1.0|\n",
      "|    75%|    10.0|\n",
      "|    max|  1898.0|\n",
      "+-------+--------+\n",
      "\n"
     ]
    }
   ],
   "source": [
    "df.select(\"ArrDelay\").summary(\"count\", \"min\", \"25%\", \"50%\", \"75%\", \"max\").show()"
   ]
  },
  {
   "cell_type": "code",
   "execution_count": null,
   "id": "79039f4b-e85a-4e3b-b0ea-2d423405600e",
   "metadata": {},
   "outputs": [],
   "source": []
  },
  {
   "cell_type": "code",
   "execution_count": null,
   "id": "d27bc7b0-3ef9-4452-ac1c-30468a2aff38",
   "metadata": {},
   "outputs": [],
   "source": []
  },
  {
   "cell_type": "code",
   "execution_count": 130,
   "id": "69c6b004-9d45-444e-9621-531931eb5967",
   "metadata": {},
   "outputs": [],
   "source": [
    "graphdf=df.toPandas()"
   ]
  },
  {
   "cell_type": "code",
   "execution_count": 151,
   "id": "58e05ff9-308a-4da6-b4bf-988712c8c96e",
   "metadata": {},
   "outputs": [],
   "source": [
    "graphdf_warrdel15=df_w_arrdelay15.toPandas()"
   ]
  },
  {
   "cell_type": "code",
   "execution_count": 164,
   "id": "45a3b673-ddf3-4e91-8000-150544c0520a",
   "metadata": {},
   "outputs": [
    {
     "data": {
      "text/plain": [
       "42.9777"
      ]
     },
     "execution_count": 164,
     "metadata": {},
     "output_type": "execute_result"
    }
   ],
   "source": [
    "graphdf[graphdf.ArrDelay > 0].shape[0]/graphdf.shape[0] *100"
   ]
  },
  {
   "cell_type": "code",
   "execution_count": 154,
   "id": "07baa142-e464-43d1-a810-77caa993424e",
   "metadata": {},
   "outputs": [
    {
     "data": {
      "text/plain": [
       "369940"
      ]
     },
     "execution_count": 154,
     "metadata": {},
     "output_type": "execute_result"
    }
   ],
   "source": [
    "len(graphdf[(graphdf['ArrDelay']>15)])"
   ]
  },
  {
   "cell_type": "code",
   "execution_count": 163,
   "id": "1eb28870-4483-4cd9-9070-6ab83b9f7499",
   "metadata": {},
   "outputs": [
    {
     "data": {
      "text/plain": [
       "<AxesSubplot:>"
      ]
     },
     "execution_count": 163,
     "metadata": {},
     "output_type": "execute_result"
    },
    {
     "data": {
      "image/png": "[encoded data removed]",
      "text/plain": [
       "<Figure size 432x288 with 1 Axes>"
      ]
     },
     "metadata": {},
     "output_type": "display_data"
    }
   ],
   "source": [
    "graphdf[\"ArrDelay\"].hist(bins=100)"
   ]
  },
  {
   "cell_type": "code",
   "execution_count": 153,
   "id": "93cee5a4-02aa-4c02-a220-703e2d53ecd7",
   "metadata": {},
   "outputs": [
    {
     "data": {
      "text/plain": [
       "<AxesSubplot:>"
      ]
     },
     "execution_count": 153,
     "metadata": {},
     "output_type": "execute_result"
    },
    {
     "data": {
      "image/png": "[encoded data removed]",
      "text/plain": [
       "<Figure size 432x288 with 1 Axes>"
      ]
     },
     "metadata": {},
     "output_type": "display_data"
    }
   ],
   "source": [
    "graphdf_warrdel15[\"ArrDel15\"].hist()"
   ]
  },
  {
   "cell_type": "code",
   "execution_count": 138,
   "id": "cce00483-552e-43c2-9b8a-59aa8766e5b1",
   "metadata": {},
   "outputs": [
    {
     "data": {
      "text/plain": [
       "<AxesSubplot:>"
      ]
     },
     "execution_count": 138,
     "metadata": {},
     "output_type": "execute_result"
    },
    {
     "data": {
      "image/png": "[encoded data removed]",
      "text/plain": [
       "<Figure size 432x288 with 1 Axes>"
      ]
     },
     "metadata": {},
     "output_type": "display_data"
    }
   ],
   "source": [
    "graphdf[\"Month\"].hist()"
   ]
  },
  {
   "cell_type": "code",
   "execution_count": 142,
   "id": "d095e9d6-dd24-4c4e-888d-f8828cf0804b",
   "metadata": {},
   "outputs": [
    {
     "data": {
      "text/plain": [
       "<AxesSubplot:>"
      ]
     },
     "execution_count": 142,
     "metadata": {},
     "output_type": "execute_result"
    },
    {
     "data": {
      "image/png": "[encoded data removed]",
      "text/plain": [
       "<Figure size 432x288 with 1 Axes>"
      ]
     },
     "metadata": {},
     "output_type": "display_data"
    }
   ],
   "source": [
    "graphdf[\"Year\"].hist()"
   ]
  },
  {
   "cell_type": "code",
   "execution_count": 144,
   "id": "114e77db-8e13-4e59-8740-68c22868b159",
   "metadata": {},
   "outputs": [
    {
     "data": {
      "text/plain": [
       "<AxesSubplot:>"
      ]
     },
     "execution_count": 144,
     "metadata": {},
     "output_type": "execute_result"
    },
    {
     "data": {
      "image/png": "[encoded data removed]",
      "text/plain": [
       "<Figure size 432x288 with 1 Axes>"
      ]
     },
     "metadata": {},
     "output_type": "display_data"
    }
   ],
   "source": [
    "graphdf[\"DayofMonth\"].hist()"
   ]
  },
  {
   "cell_type": "code",
   "execution_count": 147,
   "id": "940bcbeb-fa58-4ad4-a2ca-2e750f090533",
   "metadata": {},
   "outputs": [
    {
     "data": {
      "text/plain": [
       "<AxesSubplot:>"
      ]
     },
     "execution_count": 147,
     "metadata": {},
     "output_type": "execute_result"
    },
    {
     "data": {
      "image/png": "[encoded data removed]",
      "text/plain": [
       "<Figure size 432x288 with 1 Axes>"
      ]
     },
     "metadata": {},
     "output_type": "display_data"
    }
   ],
   "source": [
    "graphdf[\"DayOfWeek\"].hist()"
   ]
  },
  {
   "cell_type": "code",
   "execution_count": 148,
   "id": "fc9693e5-d68c-4685-bd12-2a26fa4c7be4",
   "metadata": {},
   "outputs": [
    {
     "data": {
      "text/plain": [
       "<AxesSubplot:>"
      ]
     },
     "execution_count": 148,
     "metadata": {},
     "output_type": "execute_result"
    },
    {
     "data": {
      "image/png": "[encoded data removed]",
      "text/plain": [
       "<Figure size 432x288 with 1 Axes>"
      ]
     },
     "metadata": {},
     "output_type": "display_data"
    }
   ],
   "source": [
    "graphdf[\"DepDelay\"].hist()"
   ]
  },
  {
   "cell_type": "code",
   "execution_count": null,
   "id": "cf42e1f4-35e9-4f68-811c-9e6342bc078d",
   "metadata": {},
   "outputs": [],
   "source": []
  },
  {
   "cell_type": "code",
   "execution_count": null,
   "id": "c3681b80-2811-4d47-b18a-d2bacb5cbf44",
   "metadata": {},
   "outputs": [],
   "source": []
  },
  {
   "cell_type": "code",
   "execution_count": 118,
   "id": "86f57d21-5f35-4540-8efb-f95ba0e551b6",
   "metadata": {},
   "outputs": [
    {
     "data": {
      "text/html": [
       "<div>\n",
       "<style scoped>\n",
       "    .dataframe tbody tr th:only-of-type {\n",
       "        vertical-align: middle;\n",
       "    }\n",
       "\n",
       "    .dataframe tbody tr th {\n",
       "        vertical-align: top;\n",
       "    }\n",
       "\n",
       "    .dataframe thead th {\n",
       "        text-align: right;\n",
       "    }\n",
       "</style>\n",
       "<table border=\"1\" class=\"dataframe\">\n",
       "  <thead>\n",
       "    <tr style=\"text-align: right;\">\n",
       "      <th></th>\n",
       "      <th>Year</th>\n",
       "      <th>Month</th>\n",
       "      <th>DayofMonth</th>\n",
       "      <th>DayOfWeek</th>\n",
       "      <th>Reporting_Airline</th>\n",
       "      <th>DepDelay</th>\n",
       "      <th>ArrDelay</th>\n",
       "    </tr>\n",
       "  </thead>\n",
       "  <tbody>\n",
       "    <tr>\n",
       "      <th>0</th>\n",
       "      <td>1998</td>\n",
       "      <td>1</td>\n",
       "      <td>2</td>\n",
       "      <td>5</td>\n",
       "      <td>NW</td>\n",
       "      <td>19.0</td>\n",
       "      <td>23.0</td>\n",
       "    </tr>\n",
       "    <tr>\n",
       "      <th>1</th>\n",
       "      <td>2009</td>\n",
       "      <td>5</td>\n",
       "      <td>28</td>\n",
       "      <td>4</td>\n",
       "      <td>FL</td>\n",
       "      <td>-2.0</td>\n",
       "      <td>0.0</td>\n",
       "    </tr>\n",
       "    <tr>\n",
       "      <th>2</th>\n",
       "      <td>2013</td>\n",
       "      <td>6</td>\n",
       "      <td>29</td>\n",
       "      <td>6</td>\n",
       "      <td>MQ</td>\n",
       "      <td>14.0</td>\n",
       "      <td>-3.0</td>\n",
       "    </tr>\n",
       "    <tr>\n",
       "      <th>3</th>\n",
       "      <td>2010</td>\n",
       "      <td>8</td>\n",
       "      <td>31</td>\n",
       "      <td>2</td>\n",
       "      <td>DL</td>\n",
       "      <td>0.0</td>\n",
       "      <td>-20.0</td>\n",
       "    </tr>\n",
       "    <tr>\n",
       "      <th>4</th>\n",
       "      <td>2006</td>\n",
       "      <td>1</td>\n",
       "      <td>15</td>\n",
       "      <td>7</td>\n",
       "      <td>US</td>\n",
       "      <td>51.0</td>\n",
       "      <td>32.0</td>\n",
       "    </tr>\n",
       "  </tbody>\n",
       "</table>\n",
       "</div>"
      ],
      "text/plain": [
       "   Year  Month  DayofMonth  DayOfWeek Reporting_Airline  DepDelay  ArrDelay\n",
       "0  1998      1           2          5                NW      19.0      23.0\n",
       "1  2009      5          28          4                FL      -2.0       0.0\n",
       "2  2013      6          29          6                MQ      14.0      -3.0\n",
       "3  2010      8          31          2                DL       0.0     -20.0\n",
       "4  2006      1          15          7                US      51.0      32.0"
      ]
     },
     "execution_count": 118,
     "metadata": {},
     "output_type": "execute_result"
    }
   ],
   "source": [
    "graphdf.head()"
   ]
  },
  {
   "cell_type": "code",
   "execution_count": 119,
   "id": "65149347-0175-4873-aa3e-d5c3a263881e",
   "metadata": {},
   "outputs": [
    {
     "data": {
      "text/plain": [
       "<AxesSubplot:>"
      ]
     },
     "execution_count": 119,
     "metadata": {},
     "output_type": "execute_result"
    },
    {
     "data": {
      "image/png": "[encoded data removed]",
      "text/plain": [
       "<Figure size 432x288 with 1 Axes>"
      ]
     },
     "metadata": {},
     "output_type": "display_data"
    }
   ],
   "source": [
    "graphdf[\"ArrDelay\"].plot()"
   ]
  },
  {
   "cell_type": "code",
   "execution_count": null,
   "id": "ab7831f6-7f1c-4db2-b1d3-0ab9e0807559",
   "metadata": {},
   "outputs": [],
   "source": []
  },
  {
   "cell_type": "code",
   "execution_count": 122,
   "id": "a14fb095-7961-4bc1-a72d-a93ebc7d6ada",
   "metadata": {},
   "outputs": [
    {
     "data": {
      "text/plain": [
       "<AxesSubplot:>"
      ]
     },
     "execution_count": 122,
     "metadata": {},
     "output_type": "execute_result"
    },
    {
     "data": {
      "image/png": "[encoded data removed]",
      "text/plain": [
       "<Figure size 432x288 with 1 Axes>"
      ]
     },
     "metadata": {},
     "output_type": "display_data"
    }
   ],
   "source": [
    "graphdf[\"ArrDelay\"].plot.box()"
   ]
  },
  {
   "cell_type": "code",
   "execution_count": 123,
   "id": "cdf74c9b-6045-44ff-b01c-bfdb8a28da27",
   "metadata": {},
   "outputs": [
    {
     "name": "stdout",
     "output_type": "stream",
     "text": [
      "+-------+--------+\n",
      "|summary|ArrDelay|\n",
      "+-------+--------+\n",
      "|  count| 1958922|\n",
      "|    min|  -706.0|\n",
      "|    25%|   -10.0|\n",
      "|    75%|    10.0|\n",
      "|    max|  1898.0|\n",
      "+-------+--------+\n",
      "\n"
     ]
    }
   ],
   "source": []
  },
  {
   "cell_type": "code",
   "execution_count": null,
   "id": "e4ee5ba2-74f3-4f56-a6f8-fb1ddcfacceb",
   "metadata": {},
   "outputs": [],
   "source": []
  },
  {
   "cell_type": "code",
   "execution_count": null,
   "id": "b2e19600-4567-441b-b585-1c37933bb165",
   "metadata": {},
   "outputs": [],
   "source": []
  },
  {
   "cell_type": "code",
   "execution_count": null,
   "id": "d719ac12-360a-422b-bf1c-2f13f5066798",
   "metadata": {},
   "outputs": [],
   "source": []
  },
  {
   "cell_type": "code",
   "execution_count": null,
   "id": "de48f44e-48da-4073-948c-6c926dbf142b",
   "metadata": {},
   "outputs": [],
   "source": [
    "#0 = if there IS a delay greater than 0 minutes \n",
    "#1 = if there IS NO delay"
   ]
  },
  {
   "cell_type": "code",
   "execution_count": 8,
   "id": "8f973d43-6922-4a44-9610-53a5a35f4ae9",
   "metadata": {},
   "outputs": [],
   "source": [
    "import pyspark.sql.functions as F\n",
    "df = df.withColumn('Delay', F.when(df.ArrDelay > 0, 0).otherwise(1))"
   ]
  },
  {
   "cell_type": "code",
   "execution_count": 9,
   "id": "0ee3db0a-ffe1-4165-8ed5-4525899b0eb2",
   "metadata": {},
   "outputs": [],
   "source": [
    "df = df.drop(\"ArrDelay\")"
   ]
  },
  {
   "cell_type": "code",
   "execution_count": 10,
   "id": "3c4b3c74-0ac3-4eaa-a658-5c28d4488e24",
   "metadata": {},
   "outputs": [
    {
     "name": "stdout",
     "output_type": "stream",
     "text": [
      "+----+-----+----------+---------+-----------------+--------+-----+\n",
      "|Year|Month|DayofMonth|DayOfWeek|Reporting_Airline|DepDelay|Delay|\n",
      "+----+-----+----------+---------+-----------------+--------+-----+\n",
      "|1998|    1|         2|        5|               NW|    19.0|    0|\n",
      "|2009|    5|        28|        4|               FL|    -2.0|    1|\n",
      "|2013|    6|        29|        6|               MQ|    14.0|    1|\n",
      "|2010|    8|        31|        2|               DL|     0.0|    1|\n",
      "|2006|    1|        15|        7|               US|    51.0|    0|\n",
      "|1995|   11|        29|        3|               DL|     0.0|    0|\n",
      "|2006|    8|         7|        1|               CO|    -4.0|    0|\n",
      "|2019|    6|        11|        2|               9E|   221.0|    0|\n",
      "|2008|    8|         3|        7|               YV|     2.0|    0|\n",
      "|2018|    2|         8|        4|               WN|    16.0|    0|\n",
      "|1991|   11|        21|        4|               US|     2.0|    0|\n",
      "|2014|    4|         3|        4|               WN|     0.0|    1|\n",
      "|1994|    7|        24|        7|               AA|    -3.0|    1|\n",
      "|2013|    6|        30|        7|               OO|    -4.0|    1|\n",
      "|2003|   11|        21|        5|               UA|    -5.0|    1|\n",
      "|1988|    4|         4|        1|               PI|     1.0|    0|\n",
      "|2007|    9|         5|        3|               NW|   -11.0|    1|\n",
      "|2015|    9|         5|        6|               AS|   -12.0|    1|\n",
      "|2006|    1|        28|        6|               UA|    -3.0|    1|\n",
      "|2017|    7|        26|        3|               WN|    null|    1|\n",
      "+----+-----+----------+---------+-----------------+--------+-----+\n",
      "only showing top 20 rows\n",
      "\n"
     ]
    }
   ],
   "source": [
    "df.show()"
   ]
  },
  {
   "cell_type": "code",
   "execution_count": 168,
   "id": "548eee36-3071-49d6-bdbb-6c9283a98144",
   "metadata": {},
   "outputs": [
    {
     "name": "stdout",
     "output_type": "stream",
     "text": [
      "root\n",
      " |-- Year: integer (nullable = true)\n",
      " |-- Month: integer (nullable = true)\n",
      " |-- DayofMonth: integer (nullable = true)\n",
      " |-- DayOfWeek: integer (nullable = true)\n",
      " |-- Reporting_Airline: string (nullable = true)\n",
      " |-- DepDelay: double (nullable = true)\n",
      " |-- Delay: integer (nullable = false)\n",
      "\n"
     ]
    }
   ],
   "source": [
    "df.printSchema()"
   ]
  },
  {
   "cell_type": "code",
   "execution_count": 11,
   "id": "98129414-9983-4fe1-aad1-8e59f1349480",
   "metadata": {},
   "outputs": [
    {
     "data": {
      "text/html": [
       "<div>\n",
       "<style scoped>\n",
       "    .dataframe tbody tr th:only-of-type {\n",
       "        vertical-align: middle;\n",
       "    }\n",
       "\n",
       "    .dataframe tbody tr th {\n",
       "        vertical-align: top;\n",
       "    }\n",
       "\n",
       "    .dataframe thead th {\n",
       "        text-align: right;\n",
       "    }\n",
       "</style>\n",
       "<table border=\"1\" class=\"dataframe\">\n",
       "  <thead>\n",
       "    <tr style=\"text-align: right;\">\n",
       "      <th></th>\n",
       "      <th>0</th>\n",
       "      <th>1</th>\n",
       "      <th>2</th>\n",
       "      <th>3</th>\n",
       "      <th>4</th>\n",
       "    </tr>\n",
       "  </thead>\n",
       "  <tbody>\n",
       "    <tr>\n",
       "      <th>summary</th>\n",
       "      <td>count</td>\n",
       "      <td>mean</td>\n",
       "      <td>stddev</td>\n",
       "      <td>min</td>\n",
       "      <td>max</td>\n",
       "    </tr>\n",
       "    <tr>\n",
       "      <th>Year</th>\n",
       "      <td>2000000</td>\n",
       "      <td>2004.3137015</td>\n",
       "      <td>9.228929648419022</td>\n",
       "      <td>1987</td>\n",
       "      <td>2020</td>\n",
       "    </tr>\n",
       "    <tr>\n",
       "      <th>Month</th>\n",
       "      <td>2000000</td>\n",
       "      <td>6.500761</td>\n",
       "      <td>3.4434603743311256</td>\n",
       "      <td>1</td>\n",
       "      <td>12</td>\n",
       "    </tr>\n",
       "    <tr>\n",
       "      <th>DayofMonth</th>\n",
       "      <td>2000000</td>\n",
       "      <td>15.722019</td>\n",
       "      <td>8.77841227636865</td>\n",
       "      <td>1</td>\n",
       "      <td>31</td>\n",
       "    </tr>\n",
       "    <tr>\n",
       "      <th>DayOfWeek</th>\n",
       "      <td>2000000</td>\n",
       "      <td>3.9374455</td>\n",
       "      <td>1.9903694167955284</td>\n",
       "      <td>1</td>\n",
       "      <td>7</td>\n",
       "    </tr>\n",
       "    <tr>\n",
       "      <th>Delay</th>\n",
       "      <td>2000000</td>\n",
       "      <td>0.570223</td>\n",
       "      <td>0.49504429378129927</td>\n",
       "      <td>0</td>\n",
       "      <td>1</td>\n",
       "    </tr>\n",
       "  </tbody>\n",
       "</table>\n",
       "</div>"
      ],
      "text/plain": [
       "                  0             1                    2     3     4\n",
       "summary       count          mean               stddev   min   max\n",
       "Year        2000000  2004.3137015    9.228929648419022  1987  2020\n",
       "Month       2000000      6.500761   3.4434603743311256     1    12\n",
       "DayofMonth  2000000     15.722019     8.77841227636865     1    31\n",
       "DayOfWeek   2000000     3.9374455   1.9903694167955284     1     7\n",
       "Delay       2000000      0.570223  0.49504429378129927     0     1"
      ]
     },
     "execution_count": 11,
     "metadata": {},
     "output_type": "execute_result"
    }
   ],
   "source": [
    "numeric_features = [t[0] for t in df.dtypes if t[1] == 'int']\n",
    "df.select(numeric_features).describe().toPandas().transpose()"
   ]
  },
  {
   "cell_type": "code",
   "execution_count": 12,
   "id": "f28e2e33-ef16-4653-85f3-13d44032db14",
   "metadata": {},
   "outputs": [
    {
     "name": "stdout",
     "output_type": "stream",
     "text": [
      "+-----+-------+\n",
      "|Delay|  count|\n",
      "+-----+-------+\n",
      "|    1|1140446|\n",
      "|    0| 859554|\n",
      "+-----+-------+\n",
      "\n"
     ]
    }
   ],
   "source": [
    "df.groupby(\"Delay\").count().show()"
   ]
  },
  {
   "cell_type": "code",
   "execution_count": 172,
   "id": "41638a40-19b4-488f-a6ac-eb6a5597a518",
   "metadata": {},
   "outputs": [
    {
     "data": {
      "image/png": "[encoded data removed]",
      "text/plain": [
       "<Figure size 1800x1080 with 6 Axes>"
      ]
     },
     "metadata": {},
     "output_type": "display_data"
    }
   ],
   "source": [
    "from matplotlib import cm\n",
    "import matplotlib.pyplot as plt\n",
    "fig = plt.figure(figsize=(25,15)) ## Plot Size \n",
    "st = fig.suptitle(\"Distribution of Features\", fontsize=50,\n",
    "                  verticalalignment='center') # Plot Main Title \n",
    "\n",
    "for col,num in zip(df.toPandas().describe().columns, range(1,11)):\n",
    "    ax = fig.add_subplot(3,4,num)\n",
    "    ax.hist(df.toPandas()[col])\n",
    "    plt.style.use('dark_background') \n",
    "    plt.grid(False)\n",
    "    plt.xticks(rotation=45,fontsize=20)\n",
    "    plt.yticks(fontsize=15)\n",
    "    plt.title(col.upper(),fontsize=20)\n",
    "plt.tight_layout()\n",
    "st.set_y(0.95)\n",
    "fig.subplots_adjust(top=0.85,hspace = 0.4)\n",
    "plt.show()"
   ]
  },
  {
   "cell_type": "code",
   "execution_count": 13,
   "id": "35508574-7c0d-4f9d-8b31-d67b72b3e04b",
   "metadata": {},
   "outputs": [
    {
     "data": {
      "text/html": [
       "<div>\n",
       "<style scoped>\n",
       "    .dataframe tbody tr th:only-of-type {\n",
       "        vertical-align: middle;\n",
       "    }\n",
       "\n",
       "    .dataframe tbody tr th {\n",
       "        vertical-align: top;\n",
       "    }\n",
       "\n",
       "    .dataframe thead th {\n",
       "        text-align: right;\n",
       "    }\n",
       "</style>\n",
       "<table border=\"1\" class=\"dataframe\">\n",
       "  <thead>\n",
       "    <tr style=\"text-align: right;\">\n",
       "      <th></th>\n",
       "      <th>Year</th>\n",
       "      <th>Month</th>\n",
       "      <th>DayofMonth</th>\n",
       "      <th>DayOfWeek</th>\n",
       "      <th>Reporting_Airline</th>\n",
       "      <th>DepDelay</th>\n",
       "      <th>Delay</th>\n",
       "    </tr>\n",
       "  </thead>\n",
       "  <tbody>\n",
       "    <tr>\n",
       "      <th>0</th>\n",
       "      <td>0</td>\n",
       "      <td>0</td>\n",
       "      <td>0</td>\n",
       "      <td>0</td>\n",
       "      <td>0</td>\n",
       "      <td>0</td>\n",
       "      <td>0</td>\n",
       "    </tr>\n",
       "  </tbody>\n",
       "</table>\n",
       "</div>"
      ],
      "text/plain": [
       "   Year  Month  DayofMonth  DayOfWeek  Reporting_Airline  DepDelay  Delay\n",
       "0     0      0           0          0                  0         0      0"
      ]
     },
     "execution_count": 13,
     "metadata": {},
     "output_type": "execute_result"
    }
   ],
   "source": [
    "from pyspark.sql.functions import isnan, when, count, col\n",
    "df.select([count(when(isnan(c), c)).alias(c) for c in df.columns]).toPandas().head()"
   ]
  },
  {
   "cell_type": "code",
   "execution_count": 14,
   "id": "73bf1eb1-d3b9-44e1-a535-ed0af5fd06f3",
   "metadata": {},
   "outputs": [
    {
     "data": {
      "text/html": [
       "<div>\n",
       "<style scoped>\n",
       "    .dataframe tbody tr th:only-of-type {\n",
       "        vertical-align: middle;\n",
       "    }\n",
       "\n",
       "    .dataframe tbody tr th {\n",
       "        vertical-align: top;\n",
       "    }\n",
       "\n",
       "    .dataframe thead th {\n",
       "        text-align: right;\n",
       "    }\n",
       "</style>\n",
       "<table border=\"1\" class=\"dataframe\">\n",
       "  <thead>\n",
       "    <tr style=\"text-align: right;\">\n",
       "      <th></th>\n",
       "      <th>Year</th>\n",
       "      <th>Month</th>\n",
       "      <th>DayofMonth</th>\n",
       "      <th>DayOfWeek</th>\n",
       "      <th>DepDelay</th>\n",
       "      <th>Delay</th>\n",
       "    </tr>\n",
       "  </thead>\n",
       "  <tbody>\n",
       "    <tr>\n",
       "      <th>0</th>\n",
       "      <td>1998</td>\n",
       "      <td>1</td>\n",
       "      <td>2</td>\n",
       "      <td>5</td>\n",
       "      <td>19.0</td>\n",
       "      <td>0</td>\n",
       "    </tr>\n",
       "    <tr>\n",
       "      <th>1</th>\n",
       "      <td>2009</td>\n",
       "      <td>5</td>\n",
       "      <td>28</td>\n",
       "      <td>4</td>\n",
       "      <td>-2.0</td>\n",
       "      <td>1</td>\n",
       "    </tr>\n",
       "    <tr>\n",
       "      <th>2</th>\n",
       "      <td>2013</td>\n",
       "      <td>6</td>\n",
       "      <td>29</td>\n",
       "      <td>6</td>\n",
       "      <td>14.0</td>\n",
       "      <td>1</td>\n",
       "    </tr>\n",
       "    <tr>\n",
       "      <th>3</th>\n",
       "      <td>2010</td>\n",
       "      <td>8</td>\n",
       "      <td>31</td>\n",
       "      <td>2</td>\n",
       "      <td>0.0</td>\n",
       "      <td>1</td>\n",
       "    </tr>\n",
       "    <tr>\n",
       "      <th>4</th>\n",
       "      <td>2006</td>\n",
       "      <td>1</td>\n",
       "      <td>15</td>\n",
       "      <td>7</td>\n",
       "      <td>51.0</td>\n",
       "      <td>0</td>\n",
       "    </tr>\n",
       "  </tbody>\n",
       "</table>\n",
       "</div>"
      ],
      "text/plain": [
       "   Year  Month  DayofMonth  DayOfWeek  DepDelay  Delay\n",
       "0  1998      1           2          5      19.0      0\n",
       "1  2009      5          28          4      -2.0      1\n",
       "2  2013      6          29          6      14.0      1\n",
       "3  2010      8          31          2       0.0      1\n",
       "4  2006      1          15          7      51.0      0"
      ]
     },
     "execution_count": 14,
     "metadata": {},
     "output_type": "execute_result"
    }
   ],
   "source": [
    "numeric_features = [t[0] for t in df.dtypes if t[1] != 'string']\n",
    "numeric_features_df=df.select(numeric_features)\n",
    "numeric_features_df.toPandas().head()"
   ]
  },
  {
   "cell_type": "code",
   "execution_count": 15,
   "id": "5aef07fd-0d9c-4bca-b49e-acc8880fa78f",
   "metadata": {},
   "outputs": [
    {
     "data": {
      "text/html": [
       "<div>\n",
       "<style scoped>\n",
       "    .dataframe tbody tr th:only-of-type {\n",
       "        vertical-align: middle;\n",
       "    }\n",
       "\n",
       "    .dataframe tbody tr th {\n",
       "        vertical-align: top;\n",
       "    }\n",
       "\n",
       "    .dataframe thead th {\n",
       "        text-align: right;\n",
       "    }\n",
       "</style>\n",
       "<table border=\"1\" class=\"dataframe\">\n",
       "  <thead>\n",
       "    <tr style=\"text-align: right;\">\n",
       "      <th></th>\n",
       "      <th>Year</th>\n",
       "      <th>Month</th>\n",
       "      <th>DayofMonth</th>\n",
       "      <th>DayOfWeek</th>\n",
       "      <th>DepDelay</th>\n",
       "      <th>Delay</th>\n",
       "    </tr>\n",
       "  </thead>\n",
       "  <tbody>\n",
       "    <tr>\n",
       "      <th>Year</th>\n",
       "      <td>1.000000</td>\n",
       "      <td>-0.035732</td>\n",
       "      <td>0.000435</td>\n",
       "      <td>-0.003430</td>\n",
       "      <td>NaN</td>\n",
       "      <td>0.123178</td>\n",
       "    </tr>\n",
       "    <tr>\n",
       "      <th>Month</th>\n",
       "      <td>-0.035732</td>\n",
       "      <td>1.000000</td>\n",
       "      <td>0.007268</td>\n",
       "      <td>0.001870</td>\n",
       "      <td>NaN</td>\n",
       "      <td>0.000496</td>\n",
       "    </tr>\n",
       "    <tr>\n",
       "      <th>DayofMonth</th>\n",
       "      <td>0.000435</td>\n",
       "      <td>0.007268</td>\n",
       "      <td>1.000000</td>\n",
       "      <td>-0.000083</td>\n",
       "      <td>NaN</td>\n",
       "      <td>-0.004909</td>\n",
       "    </tr>\n",
       "    <tr>\n",
       "      <th>DayOfWeek</th>\n",
       "      <td>-0.003430</td>\n",
       "      <td>0.001870</td>\n",
       "      <td>-0.000083</td>\n",
       "      <td>1.000000</td>\n",
       "      <td>NaN</td>\n",
       "      <td>0.003889</td>\n",
       "    </tr>\n",
       "    <tr>\n",
       "      <th>DepDelay</th>\n",
       "      <td>NaN</td>\n",
       "      <td>NaN</td>\n",
       "      <td>NaN</td>\n",
       "      <td>NaN</td>\n",
       "      <td>1.0</td>\n",
       "      <td>NaN</td>\n",
       "    </tr>\n",
       "    <tr>\n",
       "      <th>Delay</th>\n",
       "      <td>0.123178</td>\n",
       "      <td>0.000496</td>\n",
       "      <td>-0.004909</td>\n",
       "      <td>0.003889</td>\n",
       "      <td>NaN</td>\n",
       "      <td>1.000000</td>\n",
       "    </tr>\n",
       "  </tbody>\n",
       "</table>\n",
       "</div>"
      ],
      "text/plain": [
       "                Year     Month  DayofMonth  DayOfWeek  DepDelay     Delay\n",
       "Year        1.000000 -0.035732    0.000435  -0.003430       NaN  0.123178\n",
       "Month      -0.035732  1.000000    0.007268   0.001870       NaN  0.000496\n",
       "DayofMonth  0.000435  0.007268    1.000000  -0.000083       NaN -0.004909\n",
       "DayOfWeek  -0.003430  0.001870   -0.000083   1.000000       NaN  0.003889\n",
       "DepDelay         NaN       NaN         NaN        NaN       1.0       NaN\n",
       "Delay       0.123178  0.000496   -0.004909   0.003889       NaN  1.000000"
      ]
     },
     "execution_count": 15,
     "metadata": {},
     "output_type": "execute_result"
    }
   ],
   "source": [
    "col_names =numeric_features_df.columns\n",
    "features = numeric_features_df.rdd.map(lambda row: row[0:])\n",
    "corr_mat=Statistics.corr(features, method=\"pearson\")\n",
    "corr_df = pd.DataFrame(corr_mat)\n",
    "corr_df.index, corr_df.columns = col_names, col_names\n",
    "\n",
    "corr_df"
   ]
  },
  {
   "cell_type": "code",
   "execution_count": 16,
   "id": "518acc06-c28e-407b-bea9-7ec35457ff07",
   "metadata": {},
   "outputs": [],
   "source": [
    "df2=df\n",
    "df3=df"
   ]
  },
  {
   "cell_type": "code",
   "execution_count": 17,
   "id": "f615f719-6992-4a57-81eb-08a7f4c8d20a",
   "metadata": {},
   "outputs": [
    {
     "data": {
      "text/html": [
       "<div>\n",
       "<style scoped>\n",
       "    .dataframe tbody tr th:only-of-type {\n",
       "        vertical-align: middle;\n",
       "    }\n",
       "\n",
       "    .dataframe tbody tr th {\n",
       "        vertical-align: top;\n",
       "    }\n",
       "\n",
       "    .dataframe thead th {\n",
       "        text-align: right;\n",
       "    }\n",
       "</style>\n",
       "<table border=\"1\" class=\"dataframe\">\n",
       "  <thead>\n",
       "    <tr style=\"text-align: right;\">\n",
       "      <th></th>\n",
       "      <th>Year</th>\n",
       "      <th>Month</th>\n",
       "      <th>DayofMonth</th>\n",
       "      <th>DayOfWeek</th>\n",
       "      <th>Reporting_Airline</th>\n",
       "      <th>DepDelay</th>\n",
       "      <th>Delay</th>\n",
       "      <th>Reporting_AirlineIndex</th>\n",
       "    </tr>\n",
       "  </thead>\n",
       "  <tbody>\n",
       "    <tr>\n",
       "      <th>0</th>\n",
       "      <td>1998</td>\n",
       "      <td>1</td>\n",
       "      <td>2</td>\n",
       "      <td>5</td>\n",
       "      <td>NW</td>\n",
       "      <td>19.0</td>\n",
       "      <td>0</td>\n",
       "      <td>5.0</td>\n",
       "    </tr>\n",
       "    <tr>\n",
       "      <th>1</th>\n",
       "      <td>2009</td>\n",
       "      <td>5</td>\n",
       "      <td>28</td>\n",
       "      <td>4</td>\n",
       "      <td>FL</td>\n",
       "      <td>-2.0</td>\n",
       "      <td>1</td>\n",
       "      <td>15.0</td>\n",
       "    </tr>\n",
       "    <tr>\n",
       "      <th>2</th>\n",
       "      <td>2013</td>\n",
       "      <td>6</td>\n",
       "      <td>29</td>\n",
       "      <td>6</td>\n",
       "      <td>MQ</td>\n",
       "      <td>14.0</td>\n",
       "      <td>1</td>\n",
       "      <td>8.0</td>\n",
       "    </tr>\n",
       "    <tr>\n",
       "      <th>3</th>\n",
       "      <td>2010</td>\n",
       "      <td>8</td>\n",
       "      <td>31</td>\n",
       "      <td>2</td>\n",
       "      <td>DL</td>\n",
       "      <td>0.0</td>\n",
       "      <td>1</td>\n",
       "      <td>1.0</td>\n",
       "    </tr>\n",
       "    <tr>\n",
       "      <th>4</th>\n",
       "      <td>2006</td>\n",
       "      <td>1</td>\n",
       "      <td>15</td>\n",
       "      <td>7</td>\n",
       "      <td>US</td>\n",
       "      <td>51.0</td>\n",
       "      <td>0</td>\n",
       "      <td>4.0</td>\n",
       "    </tr>\n",
       "    <tr>\n",
       "      <th>5</th>\n",
       "      <td>1995</td>\n",
       "      <td>11</td>\n",
       "      <td>29</td>\n",
       "      <td>3</td>\n",
       "      <td>DL</td>\n",
       "      <td>0.0</td>\n",
       "      <td>0</td>\n",
       "      <td>1.0</td>\n",
       "    </tr>\n",
       "    <tr>\n",
       "      <th>6</th>\n",
       "      <td>2006</td>\n",
       "      <td>8</td>\n",
       "      <td>7</td>\n",
       "      <td>1</td>\n",
       "      <td>CO</td>\n",
       "      <td>-4.0</td>\n",
       "      <td>0</td>\n",
       "      <td>7.0</td>\n",
       "    </tr>\n",
       "    <tr>\n",
       "      <th>7</th>\n",
       "      <td>2019</td>\n",
       "      <td>6</td>\n",
       "      <td>11</td>\n",
       "      <td>2</td>\n",
       "      <td>9E</td>\n",
       "      <td>221.0</td>\n",
       "      <td>0</td>\n",
       "      <td>18.0</td>\n",
       "    </tr>\n",
       "    <tr>\n",
       "      <th>8</th>\n",
       "      <td>2008</td>\n",
       "      <td>8</td>\n",
       "      <td>3</td>\n",
       "      <td>7</td>\n",
       "      <td>YV</td>\n",
       "      <td>2.0</td>\n",
       "      <td>0</td>\n",
       "      <td>17.0</td>\n",
       "    </tr>\n",
       "    <tr>\n",
       "      <th>9</th>\n",
       "      <td>2018</td>\n",
       "      <td>2</td>\n",
       "      <td>8</td>\n",
       "      <td>4</td>\n",
       "      <td>WN</td>\n",
       "      <td>16.0</td>\n",
       "      <td>0</td>\n",
       "      <td>0.0</td>\n",
       "    </tr>\n",
       "  </tbody>\n",
       "</table>\n",
       "</div>"
      ],
      "text/plain": [
       "   Year  Month  DayofMonth  DayOfWeek Reporting_Airline  DepDelay  Delay  \\\n",
       "0  1998      1           2          5                NW      19.0      0   \n",
       "1  2009      5          28          4                FL      -2.0      1   \n",
       "2  2013      6          29          6                MQ      14.0      1   \n",
       "3  2010      8          31          2                DL       0.0      1   \n",
       "4  2006      1          15          7                US      51.0      0   \n",
       "5  1995     11          29          3                DL       0.0      0   \n",
       "6  2006      8           7          1                CO      -4.0      0   \n",
       "7  2019      6          11          2                9E     221.0      0   \n",
       "8  2008      8           3          7                YV       2.0      0   \n",
       "9  2018      2           8          4                WN      16.0      0   \n",
       "\n",
       "   Reporting_AirlineIndex  \n",
       "0                     5.0  \n",
       "1                    15.0  \n",
       "2                     8.0  \n",
       "3                     1.0  \n",
       "4                     4.0  \n",
       "5                     1.0  \n",
       "6                     7.0  \n",
       "7                    18.0  \n",
       "8                    17.0  \n",
       "9                     0.0  "
      ]
     },
     "execution_count": 17,
     "metadata": {},
     "output_type": "execute_result"
    }
   ],
   "source": [
    "stringIndexer = StringIndexer()\\\n",
    "                 .setInputCol (\"Reporting_Airline\")\\\n",
    "                 .setOutputCol (\"Reporting_AirlineIndex\")\n",
    "\n",
    "Airline_udfIndex_model=stringIndexer.fit(df2)\n",
    "Airline_udfIndex_df=Airline_udfIndex_model.transform(df2)\n",
    "Airline_udfIndex_df.toPandas().head(10)"
   ]
  },
  {
   "cell_type": "code",
   "execution_count": 18,
   "id": "893115da-689a-48d5-886e-a5504eb1c684",
   "metadata": {},
   "outputs": [
    {
     "data": {
      "text/html": [
       "<div>\n",
       "<style scoped>\n",
       "    .dataframe tbody tr th:only-of-type {\n",
       "        vertical-align: middle;\n",
       "    }\n",
       "\n",
       "    .dataframe tbody tr th {\n",
       "        vertical-align: top;\n",
       "    }\n",
       "\n",
       "    .dataframe thead th {\n",
       "        text-align: right;\n",
       "    }\n",
       "</style>\n",
       "<table border=\"1\" class=\"dataframe\">\n",
       "  <thead>\n",
       "    <tr style=\"text-align: right;\">\n",
       "      <th></th>\n",
       "      <th>Year</th>\n",
       "      <th>Month</th>\n",
       "      <th>DayofMonth</th>\n",
       "      <th>DayOfWeek</th>\n",
       "      <th>Reporting_Airline</th>\n",
       "      <th>DepDelay</th>\n",
       "      <th>Delay</th>\n",
       "      <th>Reporting_AirlineIndex</th>\n",
       "      <th>Airline_encoded</th>\n",
       "    </tr>\n",
       "  </thead>\n",
       "  <tbody>\n",
       "    <tr>\n",
       "      <th>0</th>\n",
       "      <td>1998</td>\n",
       "      <td>1</td>\n",
       "      <td>2</td>\n",
       "      <td>5</td>\n",
       "      <td>NW</td>\n",
       "      <td>19.0</td>\n",
       "      <td>0</td>\n",
       "      <td>5.0</td>\n",
       "      <td>(0.0, 0.0, 0.0, 0.0, 0.0, 1.0, 0.0, 0.0, 0.0, ...</td>\n",
       "    </tr>\n",
       "    <tr>\n",
       "      <th>1</th>\n",
       "      <td>2009</td>\n",
       "      <td>5</td>\n",
       "      <td>28</td>\n",
       "      <td>4</td>\n",
       "      <td>FL</td>\n",
       "      <td>-2.0</td>\n",
       "      <td>1</td>\n",
       "      <td>15.0</td>\n",
       "      <td>(0.0, 0.0, 0.0, 0.0, 0.0, 0.0, 0.0, 0.0, 0.0, ...</td>\n",
       "    </tr>\n",
       "    <tr>\n",
       "      <th>2</th>\n",
       "      <td>2013</td>\n",
       "      <td>6</td>\n",
       "      <td>29</td>\n",
       "      <td>6</td>\n",
       "      <td>MQ</td>\n",
       "      <td>14.0</td>\n",
       "      <td>1</td>\n",
       "      <td>8.0</td>\n",
       "      <td>(0.0, 0.0, 0.0, 0.0, 0.0, 0.0, 0.0, 0.0, 1.0, ...</td>\n",
       "    </tr>\n",
       "    <tr>\n",
       "      <th>3</th>\n",
       "      <td>2010</td>\n",
       "      <td>8</td>\n",
       "      <td>31</td>\n",
       "      <td>2</td>\n",
       "      <td>DL</td>\n",
       "      <td>0.0</td>\n",
       "      <td>1</td>\n",
       "      <td>1.0</td>\n",
       "      <td>(0.0, 1.0, 0.0, 0.0, 0.0, 0.0, 0.0, 0.0, 0.0, ...</td>\n",
       "    </tr>\n",
       "    <tr>\n",
       "      <th>4</th>\n",
       "      <td>2006</td>\n",
       "      <td>1</td>\n",
       "      <td>15</td>\n",
       "      <td>7</td>\n",
       "      <td>US</td>\n",
       "      <td>51.0</td>\n",
       "      <td>0</td>\n",
       "      <td>4.0</td>\n",
       "      <td>(0.0, 0.0, 0.0, 0.0, 1.0, 0.0, 0.0, 0.0, 0.0, ...</td>\n",
       "    </tr>\n",
       "  </tbody>\n",
       "</table>\n",
       "</div>"
      ],
      "text/plain": [
       "   Year  Month  DayofMonth  DayOfWeek Reporting_Airline  DepDelay  Delay  \\\n",
       "0  1998      1           2          5                NW      19.0      0   \n",
       "1  2009      5          28          4                FL      -2.0      1   \n",
       "2  2013      6          29          6                MQ      14.0      1   \n",
       "3  2010      8          31          2                DL       0.0      1   \n",
       "4  2006      1          15          7                US      51.0      0   \n",
       "\n",
       "   Reporting_AirlineIndex                                    Airline_encoded  \n",
       "0                     5.0  (0.0, 0.0, 0.0, 0.0, 0.0, 1.0, 0.0, 0.0, 0.0, ...  \n",
       "1                    15.0  (0.0, 0.0, 0.0, 0.0, 0.0, 0.0, 0.0, 0.0, 0.0, ...  \n",
       "2                     8.0  (0.0, 0.0, 0.0, 0.0, 0.0, 0.0, 0.0, 0.0, 1.0, ...  \n",
       "3                     1.0  (0.0, 1.0, 0.0, 0.0, 0.0, 0.0, 0.0, 0.0, 0.0, ...  \n",
       "4                     4.0  (0.0, 0.0, 0.0, 0.0, 1.0, 0.0, 0.0, 0.0, 0.0, ...  "
      ]
     },
     "execution_count": 18,
     "metadata": {},
     "output_type": "execute_result"
    }
   ],
   "source": [
    "encoder = OneHotEncoder()\\\n",
    "         .setInputCols ([\"Reporting_AirlineIndex\"])\\\n",
    "         .setOutputCols ([\"Airline_encoded\"])\n",
    "\n",
    "encoder_model=encoder.fit(Airline_udfIndex_df)\n",
    "encoder_df=encoder_model.transform(Airline_udfIndex_df)\n",
    "\n",
    "encoder_df.toPandas().head()"
   ]
  },
  {
   "cell_type": "code",
   "execution_count": 19,
   "id": "42e7f45e-5082-4e08-83cc-c49e711875e3",
   "metadata": {},
   "outputs": [],
   "source": [
    "import pandas as pd\n",
    "pd.set_option('display.max_colwidth', 80)\n",
    "pd.set_option('max_columns', 12)"
   ]
  },
  {
   "cell_type": "code",
   "execution_count": 20,
   "id": "9e348471-c969-4c55-8caa-cfe3822e7588",
   "metadata": {},
   "outputs": [
    {
     "name": "stdout",
     "output_type": "stream",
     "text": [
      "root\n",
      " |-- Year: integer (nullable = true)\n",
      " |-- Month: integer (nullable = true)\n",
      " |-- DayofMonth: integer (nullable = true)\n",
      " |-- DayOfWeek: integer (nullable = true)\n",
      " |-- Reporting_Airline: string (nullable = true)\n",
      " |-- DepDelay: double (nullable = true)\n",
      " |-- Delay: integer (nullable = false)\n",
      "\n"
     ]
    }
   ],
   "source": [
    "df.printSchema()"
   ]
  },
  {
   "cell_type": "code",
   "execution_count": 21,
   "id": "f6d50349-046a-4f2b-ae9c-889bbec4921a",
   "metadata": {},
   "outputs": [
    {
     "data": {
      "text/html": [
       "<div>\n",
       "<style scoped>\n",
       "    .dataframe tbody tr th:only-of-type {\n",
       "        vertical-align: middle;\n",
       "    }\n",
       "\n",
       "    .dataframe tbody tr th {\n",
       "        vertical-align: top;\n",
       "    }\n",
       "\n",
       "    .dataframe thead th {\n",
       "        text-align: right;\n",
       "    }\n",
       "</style>\n",
       "<table border=\"1\" class=\"dataframe\">\n",
       "  <thead>\n",
       "    <tr style=\"text-align: right;\">\n",
       "      <th></th>\n",
       "      <th>Year</th>\n",
       "      <th>Month</th>\n",
       "      <th>DayofMonth</th>\n",
       "      <th>DayOfWeek</th>\n",
       "      <th>Reporting_Airline</th>\n",
       "      <th>DepDelay</th>\n",
       "      <th>Delay</th>\n",
       "      <th>Reporting_AirlineIndex</th>\n",
       "      <th>Airline_encoded</th>\n",
       "      <th>vectorized_features</th>\n",
       "    </tr>\n",
       "  </thead>\n",
       "  <tbody>\n",
       "    <tr>\n",
       "      <th>0</th>\n",
       "      <td>1998</td>\n",
       "      <td>1</td>\n",
       "      <td>2</td>\n",
       "      <td>5</td>\n",
       "      <td>NW</td>\n",
       "      <td>19.0</td>\n",
       "      <td>0</td>\n",
       "      <td>5.0</td>\n",
       "      <td>(0.0, 0.0, 0.0, 0.0, 0.0, 1.0, 0.0, 0.0, 0.0, 0.0, 0.0, 0.0, 0.0, 0.0, 0.0, ...</td>\n",
       "      <td>(0.0, 0.0, 0.0, 0.0, 0.0, 1.0, 0.0, 0.0, 0.0, 0.0, 0.0, 0.0, 0.0, 0.0, 0.0, ...</td>\n",
       "    </tr>\n",
       "    <tr>\n",
       "      <th>1</th>\n",
       "      <td>2009</td>\n",
       "      <td>5</td>\n",
       "      <td>28</td>\n",
       "      <td>4</td>\n",
       "      <td>FL</td>\n",
       "      <td>-2.0</td>\n",
       "      <td>1</td>\n",
       "      <td>15.0</td>\n",
       "      <td>(0.0, 0.0, 0.0, 0.0, 0.0, 0.0, 0.0, 0.0, 0.0, 0.0, 0.0, 0.0, 0.0, 0.0, 0.0, ...</td>\n",
       "      <td>(0.0, 0.0, 0.0, 0.0, 0.0, 0.0, 0.0, 0.0, 0.0, 0.0, 0.0, 0.0, 0.0, 0.0, 0.0, ...</td>\n",
       "    </tr>\n",
       "    <tr>\n",
       "      <th>2</th>\n",
       "      <td>2013</td>\n",
       "      <td>6</td>\n",
       "      <td>29</td>\n",
       "      <td>6</td>\n",
       "      <td>MQ</td>\n",
       "      <td>14.0</td>\n",
       "      <td>1</td>\n",
       "      <td>8.0</td>\n",
       "      <td>(0.0, 0.0, 0.0, 0.0, 0.0, 0.0, 0.0, 0.0, 1.0, 0.0, 0.0, 0.0, 0.0, 0.0, 0.0, ...</td>\n",
       "      <td>(0.0, 0.0, 0.0, 0.0, 0.0, 0.0, 0.0, 0.0, 1.0, 0.0, 0.0, 0.0, 0.0, 0.0, 0.0, ...</td>\n",
       "    </tr>\n",
       "    <tr>\n",
       "      <th>3</th>\n",
       "      <td>2010</td>\n",
       "      <td>8</td>\n",
       "      <td>31</td>\n",
       "      <td>2</td>\n",
       "      <td>DL</td>\n",
       "      <td>0.0</td>\n",
       "      <td>1</td>\n",
       "      <td>1.0</td>\n",
       "      <td>(0.0, 1.0, 0.0, 0.0, 0.0, 0.0, 0.0, 0.0, 0.0, 0.0, 0.0, 0.0, 0.0, 0.0, 0.0, ...</td>\n",
       "      <td>(0.0, 1.0, 0.0, 0.0, 0.0, 0.0, 0.0, 0.0, 0.0, 0.0, 0.0, 0.0, 0.0, 0.0, 0.0, ...</td>\n",
       "    </tr>\n",
       "    <tr>\n",
       "      <th>4</th>\n",
       "      <td>2006</td>\n",
       "      <td>1</td>\n",
       "      <td>15</td>\n",
       "      <td>7</td>\n",
       "      <td>US</td>\n",
       "      <td>51.0</td>\n",
       "      <td>0</td>\n",
       "      <td>4.0</td>\n",
       "      <td>(0.0, 0.0, 0.0, 0.0, 1.0, 0.0, 0.0, 0.0, 0.0, 0.0, 0.0, 0.0, 0.0, 0.0, 0.0, ...</td>\n",
       "      <td>(0.0, 0.0, 0.0, 0.0, 1.0, 0.0, 0.0, 0.0, 0.0, 0.0, 0.0, 0.0, 0.0, 0.0, 0.0, ...</td>\n",
       "    </tr>\n",
       "  </tbody>\n",
       "</table>\n",
       "</div>"
      ],
      "text/plain": [
       "   Year  Month  DayofMonth  DayOfWeek Reporting_Airline  DepDelay  Delay  \\\n",
       "0  1998      1           2          5                NW      19.0      0   \n",
       "1  2009      5          28          4                FL      -2.0      1   \n",
       "2  2013      6          29          6                MQ      14.0      1   \n",
       "3  2010      8          31          2                DL       0.0      1   \n",
       "4  2006      1          15          7                US      51.0      0   \n",
       "\n",
       "   Reporting_AirlineIndex  \\\n",
       "0                     5.0   \n",
       "1                    15.0   \n",
       "2                     8.0   \n",
       "3                     1.0   \n",
       "4                     4.0   \n",
       "\n",
       "                                                                   Airline_encoded  \\\n",
       "0  (0.0, 0.0, 0.0, 0.0, 0.0, 1.0, 0.0, 0.0, 0.0, 0.0, 0.0, 0.0, 0.0, 0.0, 0.0, ...   \n",
       "1  (0.0, 0.0, 0.0, 0.0, 0.0, 0.0, 0.0, 0.0, 0.0, 0.0, 0.0, 0.0, 0.0, 0.0, 0.0, ...   \n",
       "2  (0.0, 0.0, 0.0, 0.0, 0.0, 0.0, 0.0, 0.0, 1.0, 0.0, 0.0, 0.0, 0.0, 0.0, 0.0, ...   \n",
       "3  (0.0, 1.0, 0.0, 0.0, 0.0, 0.0, 0.0, 0.0, 0.0, 0.0, 0.0, 0.0, 0.0, 0.0, 0.0, ...   \n",
       "4  (0.0, 0.0, 0.0, 0.0, 1.0, 0.0, 0.0, 0.0, 0.0, 0.0, 0.0, 0.0, 0.0, 0.0, 0.0, ...   \n",
       "\n",
       "                                                               vectorized_features  \n",
       "0  (0.0, 0.0, 0.0, 0.0, 0.0, 1.0, 0.0, 0.0, 0.0, 0.0, 0.0, 0.0, 0.0, 0.0, 0.0, ...  \n",
       "1  (0.0, 0.0, 0.0, 0.0, 0.0, 0.0, 0.0, 0.0, 0.0, 0.0, 0.0, 0.0, 0.0, 0.0, 0.0, ...  \n",
       "2  (0.0, 0.0, 0.0, 0.0, 0.0, 0.0, 0.0, 0.0, 1.0, 0.0, 0.0, 0.0, 0.0, 0.0, 0.0, ...  \n",
       "3  (0.0, 1.0, 0.0, 0.0, 0.0, 0.0, 0.0, 0.0, 0.0, 0.0, 0.0, 0.0, 0.0, 0.0, 0.0, ...  \n",
       "4  (0.0, 0.0, 0.0, 0.0, 1.0, 0.0, 0.0, 0.0, 0.0, 0.0, 0.0, 0.0, 0.0, 0.0, 0.0, ...  "
      ]
     },
     "execution_count": 21,
     "metadata": {},
     "output_type": "execute_result"
    }
   ],
   "source": [
    "assembler = VectorAssembler()\\\n",
    "         .setInputCols ([\"Airline_encoded\",\"Year\",\"Month\",\n",
    "                         \"DayofMonth\",\"DayOfWeek\",\\\n",
    "                         \"DepDelay\"])\\\n",
    "         .setOutputCol (\"vectorized_features\")\n",
    "        \n",
    "\n",
    "assembler_df=assembler.setHandleInvalid(\"skip\").transform(encoder_df)\n",
    "assembler_df.toPandas().head()"
   ]
  },
  {
   "cell_type": "code",
   "execution_count": 22,
   "id": "509d7590-c7ec-4f81-a04a-cfb6973d1503",
   "metadata": {},
   "outputs": [
    {
     "data": {
      "text/html": [
       "<div>\n",
       "<style scoped>\n",
       "    .dataframe tbody tr th:only-of-type {\n",
       "        vertical-align: middle;\n",
       "    }\n",
       "\n",
       "    .dataframe tbody tr th {\n",
       "        vertical-align: top;\n",
       "    }\n",
       "\n",
       "    .dataframe thead th {\n",
       "        text-align: right;\n",
       "    }\n",
       "</style>\n",
       "<table border=\"1\" class=\"dataframe\">\n",
       "  <thead>\n",
       "    <tr style=\"text-align: right;\">\n",
       "      <th></th>\n",
       "      <th>Delay</th>\n",
       "      <th>label</th>\n",
       "    </tr>\n",
       "  </thead>\n",
       "  <tbody>\n",
       "    <tr>\n",
       "      <th>0</th>\n",
       "      <td>0</td>\n",
       "      <td>1.0</td>\n",
       "    </tr>\n",
       "    <tr>\n",
       "      <th>1</th>\n",
       "      <td>1</td>\n",
       "      <td>0.0</td>\n",
       "    </tr>\n",
       "    <tr>\n",
       "      <th>2</th>\n",
       "      <td>1</td>\n",
       "      <td>0.0</td>\n",
       "    </tr>\n",
       "    <tr>\n",
       "      <th>3</th>\n",
       "      <td>1</td>\n",
       "      <td>0.0</td>\n",
       "    </tr>\n",
       "    <tr>\n",
       "      <th>4</th>\n",
       "      <td>0</td>\n",
       "      <td>1.0</td>\n",
       "    </tr>\n",
       "  </tbody>\n",
       "</table>\n",
       "</div>"
      ],
      "text/plain": [
       "   Delay  label\n",
       "0      0    1.0\n",
       "1      1    0.0\n",
       "2      1    0.0\n",
       "3      1    0.0\n",
       "4      0    1.0"
      ]
     },
     "execution_count": 22,
     "metadata": {},
     "output_type": "execute_result"
    }
   ],
   "source": [
    "label_indexer = StringIndexer()\\\n",
    "         .setInputCol (\"Delay\")\\\n",
    "         .setOutputCol (\"label\")\n",
    "\n",
    "label_indexer_model=label_indexer.fit(assembler_df)\n",
    "label_indexer_df=label_indexer_model.transform(assembler_df)\n",
    "\n",
    "label_indexer_df.select(\"Delay\",\"label\").toPandas().head()"
   ]
  },
  {
   "cell_type": "code",
   "execution_count": 23,
   "id": "8b97b888-f417-44c2-81ee-798f2ea944f3",
   "metadata": {},
   "outputs": [
    {
     "data": {
      "text/html": [
       "<div>\n",
       "<style scoped>\n",
       "    .dataframe tbody tr th:only-of-type {\n",
       "        vertical-align: middle;\n",
       "    }\n",
       "\n",
       "    .dataframe tbody tr th {\n",
       "        vertical-align: top;\n",
       "    }\n",
       "\n",
       "    .dataframe thead th {\n",
       "        text-align: right;\n",
       "    }\n",
       "</style>\n",
       "<table border=\"1\" class=\"dataframe\">\n",
       "  <thead>\n",
       "    <tr style=\"text-align: right;\">\n",
       "      <th></th>\n",
       "      <th>vectorized_features</th>\n",
       "      <th>features</th>\n",
       "    </tr>\n",
       "  </thead>\n",
       "  <tbody>\n",
       "    <tr>\n",
       "      <th>0</th>\n",
       "      <td>(0.0, 0.0, 0.0, 0.0, 0.0, 1.0, 0.0, ...</td>\n",
       "      <td>(0.0, 0.0, 0.0, 0.0, 0.0, 4.40479352...</td>\n",
       "    </tr>\n",
       "    <tr>\n",
       "      <th>1</th>\n",
       "      <td>(0.0, 0.0, 0.0, 0.0, 0.0, 0.0, 0.0, ...</td>\n",
       "      <td>(0.0, 0.0, 0.0, 0.0, 0.0, 0.0, 0.0, ...</td>\n",
       "    </tr>\n",
       "    <tr>\n",
       "      <th>2</th>\n",
       "      <td>(0.0, 0.0, 0.0, 0.0, 0.0, 0.0, 0.0, ...</td>\n",
       "      <td>(0.0, 0.0, 0.0, 0.0, 0.0, 0.0, 0.0, ...</td>\n",
       "    </tr>\n",
       "    <tr>\n",
       "      <th>3</th>\n",
       "      <td>(0.0, 1.0, 0.0, 0.0, 0.0, 0.0, 0.0, ...</td>\n",
       "      <td>(0.0, 2.9461867590118818, 0.0, 0.0, ...</td>\n",
       "    </tr>\n",
       "    <tr>\n",
       "      <th>4</th>\n",
       "      <td>(0.0, 0.0, 0.0, 0.0, 1.0, 0.0, 0.0, ...</td>\n",
       "      <td>(0.0, 0.0, 0.0, 0.0, 3.5649185296545...</td>\n",
       "    </tr>\n",
       "  </tbody>\n",
       "</table>\n",
       "</div>"
      ],
      "text/plain": [
       "                       vectorized_features  \\\n",
       "0  (0.0, 0.0, 0.0, 0.0, 0.0, 1.0, 0.0, ...   \n",
       "1  (0.0, 0.0, 0.0, 0.0, 0.0, 0.0, 0.0, ...   \n",
       "2  (0.0, 0.0, 0.0, 0.0, 0.0, 0.0, 0.0, ...   \n",
       "3  (0.0, 1.0, 0.0, 0.0, 0.0, 0.0, 0.0, ...   \n",
       "4  (0.0, 0.0, 0.0, 0.0, 1.0, 0.0, 0.0, ...   \n",
       "\n",
       "                                  features  \n",
       "0  (0.0, 0.0, 0.0, 0.0, 0.0, 4.40479352...  \n",
       "1  (0.0, 0.0, 0.0, 0.0, 0.0, 0.0, 0.0, ...  \n",
       "2  (0.0, 0.0, 0.0, 0.0, 0.0, 0.0, 0.0, ...  \n",
       "3  (0.0, 2.9461867590118818, 0.0, 0.0, ...  \n",
       "4  (0.0, 0.0, 0.0, 0.0, 3.5649185296545...  "
      ]
     },
     "execution_count": 23,
     "metadata": {},
     "output_type": "execute_result"
    }
   ],
   "source": [
    "scaler = StandardScaler()\\\n",
    "         .setInputCol (\"vectorized_features\")\\\n",
    "         .setOutputCol (\"features\")\n",
    "        \n",
    "scaler_model=scaler.fit(label_indexer_df)\n",
    "scaler_df=scaler_model.transform(label_indexer_df)\n",
    "pd.set_option('display.max_colwidth', 40)\n",
    "scaler_df.select(\"vectorized_features\",\"features\").toPandas().head(5)"
   ]
  },
  {
   "cell_type": "code",
   "execution_count": 24,
   "id": "2a351ef1-4356-4c2a-8b1d-54ec2c10429b",
   "metadata": {},
   "outputs": [],
   "source": [
    "#scaler_df.show()"
   ]
  },
  {
   "cell_type": "code",
   "execution_count": 25,
   "id": "843545da-5c57-468f-ae04-0ef8fedeee41",
   "metadata": {},
   "outputs": [
    {
     "name": "stdout",
     "output_type": "stream",
     "text": [
      "(1963932, 12)\n"
     ]
    }
   ],
   "source": [
    "print((scaler_df.count(), len(scaler_df.columns)))"
   ]
  },
  {
   "cell_type": "code",
   "execution_count": 26,
   "id": "5dac4a3a-7e08-4c88-92c7-8cde9c7ad530",
   "metadata": {},
   "outputs": [
    {
     "name": "stdout",
     "output_type": "stream",
     "text": [
      "Training Dataset Count: 1570813\n",
      "Test Dataset Count: 393119\n"
     ]
    }
   ],
   "source": [
    "train, test = scaler_df.randomSplit([0.8, 0.2], seed = 2018)\n",
    "print(\"Training Dataset Count: \" + str(train.count()))\n",
    "print(\"Test Dataset Count: \" + str(test.count()))"
   ]
  },
  {
   "cell_type": "code",
   "execution_count": 27,
   "id": "2ab592a7-5c5a-447c-8247-f503753b7cd7",
   "metadata": {},
   "outputs": [
    {
     "name": "stdout",
     "output_type": "stream",
     "text": [
      "+-----+------+\n",
      "|Delay| count|\n",
      "+-----+------+\n",
      "|    1|883084|\n",
      "|    0|687729|\n",
      "+-----+------+\n",
      "\n"
     ]
    }
   ],
   "source": [
    "train.groupby(\"Delay\").count().show()"
   ]
  },
  {
   "cell_type": "code",
   "execution_count": 28,
   "id": "d32f0c70-b802-42b2-aabc-08cb6c4b14ff",
   "metadata": {},
   "outputs": [],
   "source": [
    "from pyspark.ml.classification import LogisticRegression\n",
    "lr = LogisticRegression(featuresCol = 'features', labelCol = 'label', maxIter=100)\n",
    "lrModel = lr.fit(train)"
   ]
  },
  {
   "cell_type": "code",
   "execution_count": 29,
   "id": "dc447341-ad1a-4555-8255-3c628853ca0e",
   "metadata": {},
   "outputs": [
    {
     "data": {
      "text/html": [
       "<div>\n",
       "<style scoped>\n",
       "    .dataframe tbody tr th:only-of-type {\n",
       "        vertical-align: middle;\n",
       "    }\n",
       "\n",
       "    .dataframe tbody tr th {\n",
       "        vertical-align: top;\n",
       "    }\n",
       "\n",
       "    .dataframe thead th {\n",
       "        text-align: right;\n",
       "    }\n",
       "</style>\n",
       "<table border=\"1\" class=\"dataframe\">\n",
       "  <thead>\n",
       "    <tr style=\"text-align: right;\">\n",
       "      <th></th>\n",
       "      <th>label</th>\n",
       "      <th>features</th>\n",
       "      <th>rawPrediction</th>\n",
       "      <th>prediction</th>\n",
       "      <th>probability</th>\n",
       "    </tr>\n",
       "  </thead>\n",
       "  <tbody>\n",
       "    <tr>\n",
       "      <th>0</th>\n",
       "      <td>0.0</td>\n",
       "      <td>(0.0, 0.0, 3.1077095055255453, 0.0, ...</td>\n",
       "      <td>[0.6202893895134299, -0.620289389513...</td>\n",
       "      <td>0.0</td>\n",
       "      <td>[0.650284362839095, 0.34971563716090...</td>\n",
       "    </tr>\n",
       "    <tr>\n",
       "      <th>1</th>\n",
       "      <td>1.0</td>\n",
       "      <td>(0.0, 2.9461867590118818, 0.0, 0.0, ...</td>\n",
       "      <td>[0.5402644443132946, -0.540264444313...</td>\n",
       "      <td>0.0</td>\n",
       "      <td>[0.6318739320785755, 0.3681260679214...</td>\n",
       "    </tr>\n",
       "    <tr>\n",
       "      <th>2</th>\n",
       "      <td>0.0</td>\n",
       "      <td>(0.0, 0.0, 0.0, 0.0, 0.0, 0.0, 0.0, ...</td>\n",
       "      <td>[0.5343950346794333, -0.534395034679...</td>\n",
       "      <td>0.0</td>\n",
       "      <td>[0.6305075993623178, 0.3694924006376...</td>\n",
       "    </tr>\n",
       "    <tr>\n",
       "      <th>3</th>\n",
       "      <td>0.0</td>\n",
       "      <td>(0.0, 0.0, 0.0, 0.0, 0.0, 0.0, 0.0, ...</td>\n",
       "      <td>[-1.4835305003268089, 1.483530500326...</td>\n",
       "      <td>1.0</td>\n",
       "      <td>[0.1848947502135124, 0.8151052497864...</td>\n",
       "    </tr>\n",
       "    <tr>\n",
       "      <th>4</th>\n",
       "      <td>0.0</td>\n",
       "      <td>(0.0, 0.0, 0.0, 0.0, 0.0, 0.0, 0.0, ...</td>\n",
       "      <td>[-0.1913450443520599, 0.191345044352...</td>\n",
       "      <td>1.0</td>\n",
       "      <td>[0.4523091586349634, 0.5476908413650...</td>\n",
       "    </tr>\n",
       "  </tbody>\n",
       "</table>\n",
       "</div>"
      ],
      "text/plain": [
       "   label                                 features  \\\n",
       "0    0.0  (0.0, 0.0, 3.1077095055255453, 0.0, ...   \n",
       "1    1.0  (0.0, 2.9461867590118818, 0.0, 0.0, ...   \n",
       "2    0.0  (0.0, 0.0, 0.0, 0.0, 0.0, 0.0, 0.0, ...   \n",
       "3    0.0  (0.0, 0.0, 0.0, 0.0, 0.0, 0.0, 0.0, ...   \n",
       "4    0.0  (0.0, 0.0, 0.0, 0.0, 0.0, 0.0, 0.0, ...   \n",
       "\n",
       "                             rawPrediction  prediction  \\\n",
       "0  [0.6202893895134299, -0.620289389513...         0.0   \n",
       "1  [0.5402644443132946, -0.540264444313...         0.0   \n",
       "2  [0.5343950346794333, -0.534395034679...         0.0   \n",
       "3  [-1.4835305003268089, 1.483530500326...         1.0   \n",
       "4  [-0.1913450443520599, 0.191345044352...         1.0   \n",
       "\n",
       "                               probability  \n",
       "0  [0.650284362839095, 0.34971563716090...  \n",
       "1  [0.6318739320785755, 0.3681260679214...  \n",
       "2  [0.6305075993623178, 0.3694924006376...  \n",
       "3  [0.1848947502135124, 0.8151052497864...  \n",
       "4  [0.4523091586349634, 0.5476908413650...  "
      ]
     },
     "execution_count": 29,
     "metadata": {},
     "output_type": "execute_result"
    }
   ],
   "source": [
    "\n",
    "predictions = lrModel.transform(test)\n",
    "#predictions_train = lrModel.transform(train)\n",
    "predictions.select('label', 'features',  'rawPrediction', 'prediction', 'probability').toPandas().head(5)"
   ]
  },
  {
   "cell_type": "code",
   "execution_count": 350,
   "id": "b6a8714e-42a0-47c1-9d3f-e64b3b939f5a",
   "metadata": {},
   "outputs": [
    {
     "data": {
      "text/plain": [
       "[Row(Year=1987, Month=10, DayofMonth=1, DayOfWeek=4, Reporting_Airline='AA', DepDelay=0.0, Delay=1, Reporting_AirlineIndex=2.0, Airline_encoded=SparseVector(32, {2: 1.0}), vectorized_features=SparseVector(37, {2: 1.0, 32: 1987.0, 33: 10.0, 34: 1.0, 35: 4.0}), label=0.0, features=SparseVector(37, {2: 3.1077, 32: 215.1006, 33: 2.9084, 34: 0.1139, 35: 2.009}), rawPrediction=DenseVector([0.6203, -0.6203]), probability=DenseVector([0.6503, 0.3497]), prediction=0.0),\n",
       " Row(Year=1987, Month=10, DayofMonth=1, DayOfWeek=4, Reporting_Airline='DL', DepDelay=0.0, Delay=0, Reporting_AirlineIndex=1.0, Airline_encoded=SparseVector(32, {1: 1.0}), vectorized_features=SparseVector(37, {1: 1.0, 32: 1987.0, 33: 10.0, 34: 1.0, 35: 4.0}), label=1.0, features=SparseVector(37, {1: 2.9462, 32: 215.1006, 33: 2.9084, 34: 0.1139, 35: 2.009}), rawPrediction=DenseVector([0.5403, -0.5403]), probability=DenseVector([0.6319, 0.3681]), prediction=0.0),\n",
       " Row(Year=1987, Month=10, DayofMonth=1, DayOfWeek=4, Reporting_Airline='EA', DepDelay=0.0, Delay=1, Reporting_AirlineIndex=21.0, Airline_encoded=SparseVector(32, {21: 1.0}), vectorized_features=SparseVector(37, {21: 1.0, 32: 1987.0, 33: 10.0, 34: 1.0, 35: 4.0}), label=0.0, features=SparseVector(37, {21: 14.7507, 32: 215.1006, 33: 2.9084, 34: 0.1139, 35: 2.009}), rawPrediction=DenseVector([0.5344, -0.5344]), probability=DenseVector([0.6305, 0.3695]), prediction=0.0),\n",
       " Row(Year=1987, Month=10, DayofMonth=1, DayOfWeek=4, Reporting_Airline='EA', DepDelay=13.0, Delay=1, Reporting_AirlineIndex=21.0, Airline_encoded=SparseVector(32, {21: 1.0}), vectorized_features=SparseVector(37, {21: 1.0, 32: 1987.0, 33: 10.0, 34: 1.0, 35: 4.0, 36: 13.0}), label=0.0, features=SparseVector(37, {21: 14.7507, 32: 215.1006, 33: 2.9084, 34: 0.1139, 35: 2.009, 36: 0.3973}), rawPrediction=DenseVector([-1.4835, 1.4835]), probability=DenseVector([0.1849, 0.8151]), prediction=1.0),\n",
       " Row(Year=1987, Month=10, DayofMonth=1, DayOfWeek=4, Reporting_Airline='PI', DepDelay=0.0, Delay=1, Reporting_AirlineIndex=22.0, Airline_encoded=SparseVector(32, {22: 1.0}), vectorized_features=SparseVector(37, {22: 1.0, 32: 1987.0, 33: 10.0, 34: 1.0, 35: 4.0}), label=0.0, features=SparseVector(37, {22: 14.9313, 32: 215.1006, 33: 2.9084, 34: 0.1139, 35: 2.009}), rawPrediction=DenseVector([-0.1913, 0.1913]), probability=DenseVector([0.4523, 0.5477]), prediction=1.0)]"
      ]
     },
     "execution_count": 350,
     "metadata": {},
     "output_type": "execute_result"
    }
   ],
   "source": [
    "predictions.head(5)"
   ]
  },
  {
   "cell_type": "code",
   "execution_count": 30,
   "id": "2b3ca6d0-9bd5-4067-9493-638135ed5540",
   "metadata": {},
   "outputs": [
    {
     "name": "stdout",
     "output_type": "stream",
     "text": [
      "root\n",
      " |-- Year: integer (nullable = true)\n",
      " |-- Month: integer (nullable = true)\n",
      " |-- DayofMonth: integer (nullable = true)\n",
      " |-- DayOfWeek: integer (nullable = true)\n",
      " |-- Reporting_Airline: string (nullable = true)\n",
      " |-- DepDelay: double (nullable = true)\n",
      " |-- Delay: integer (nullable = false)\n",
      " |-- Reporting_AirlineIndex: double (nullable = false)\n",
      " |-- Airline_encoded: vector (nullable = true)\n",
      " |-- vectorized_features: vector (nullable = true)\n",
      " |-- label: double (nullable = false)\n",
      " |-- features: vector (nullable = true)\n",
      " |-- rawPrediction: vector (nullable = true)\n",
      " |-- probability: vector (nullable = true)\n",
      " |-- prediction: double (nullable = false)\n",
      "\n"
     ]
    }
   ],
   "source": [
    "predictions.printSchema()"
   ]
  },
  {
   "cell_type": "code",
   "execution_count": 31,
   "id": "a7112ad7-c347-48c2-97d5-5e4805426fea",
   "metadata": {},
   "outputs": [
    {
     "name": "stdout",
     "output_type": "stream",
     "text": [
      "(393119, 15)\n"
     ]
    }
   ],
   "source": [
    "print((predictions.count(), len(predictions.columns)))"
   ]
  },
  {
   "cell_type": "code",
   "execution_count": 32,
   "id": "31e431c1-6227-4737-a74d-611a6cc71262",
   "metadata": {},
   "outputs": [
    {
     "data": {
      "text/plain": [
       "pyspark.sql.dataframe.DataFrame"
      ]
     },
     "execution_count": 32,
     "metadata": {},
     "output_type": "execute_result"
    }
   ],
   "source": [
    "type(predictions)"
   ]
  },
  {
   "cell_type": "code",
   "execution_count": null,
   "id": "1bbb125c-166c-4235-980a-1452c879331f",
   "metadata": {},
   "outputs": [],
   "source": [
    "predictions.toPandas().head(5).to_excel(\"/regressionoutput.xlsx\")"
   ]
  },
  {
   "cell_type": "code",
   "execution_count": null,
   "id": "b70751a1-c990-40a1-9ea7-72df41f156eb",
   "metadata": {},
   "outputs": [],
   "source": [
    "predictions.toPandas().head(5)"
   ]
  },
  {
   "cell_type": "code",
   "execution_count": 337,
   "id": "537b6f6b-89e6-40dd-9bd1-801940073afb",
   "metadata": {},
   "outputs": [],
   "source": [
    "class_names=[1.0,0.0]\n",
    "import itertools\n",
    "#confusion matrix function\n",
    "def plot_confusion_matrix(cm, classes,\n",
    "                          normalize=True,\n",
    "                          title='Confusion matrix',\n",
    "                          cmap=plt.cm.Blues):\n",
    "    if normalize:\n",
    "        cm = cm.astype('float') / cm.sum(axis=1)[:, np.newaxis]\n",
    "        print(\"Normalized confusion matrix\")\n",
    "    else:\n",
    "        print('Confusion matrix, without normalization')\n",
    "\n",
    "    print(cm)\n",
    "\n",
    "    plt.imshow(cm, interpolation='nearest', cmap=cmap)\n",
    "    plt.title(title)\n",
    "    plt.colorbar()\n",
    "    tick_marks = np.arange(len(classes))\n",
    "    plt.xticks(tick_marks, classes, rotation=45)\n",
    "    plt.yticks(tick_marks, classes)\n",
    "\n",
    "    fmt = '.2f' if normalize else 'd'\n",
    "    thresh = cm.max() / 2.\n",
    "    for i, j in itertools.product(range(cm.shape[0]), range(cm.shape[1])):\n",
    "        plt.text(j, i, format(cm[i, j], fmt),\n",
    "                 horizontalalignment=\"center\",\n",
    "                 color=\"white\" if cm[i, j] > thresh else \"black\")\n",
    "\n",
    "    plt.tight_layout()\n",
    "    plt.ylabel('True label')\n",
    "    plt.xlabel('Predicted label')\n"
   ]
  },
  {
   "cell_type": "code",
   "execution_count": 338,
   "id": "5998ae56-5820-4956-8e44-78467c5340e8",
   "metadata": {},
   "outputs": [
    {
     "name": "stdout",
     "output_type": "stream",
     "text": [
      "Normalized confusion matrix\n",
      "[[0.57027362 0.42972638]\n",
      " [0.07801204 0.92198796]]\n"
     ]
    },
    {
     "data": {
      "image/png": "[encoded data removed]",
      "text/plain": [
       "<Figure size 432x288 with 2 Axes>"
      ]
     },
     "metadata": {},
     "output_type": "display_data"
    }
   ],
   "source": [
    "y_true = predictions.select(\"label\")\n",
    "y_true = y_true.toPandas()\n",
    "\n",
    "y_pred = predictions.select(\"prediction\")\n",
    "y_pred = y_pred.toPandas()\n",
    "\n",
    "cnf_matrix = confusion_matrix(y_true, y_pred,labels=class_names)\n",
    "#cnf_matrix\n",
    "plt.figure()\n",
    "plot_confusion_matrix(cnf_matrix, classes=class_names,\n",
    "                      title='Confusion matrix')\n",
    "plt.show()"
   ]
  },
  {
   "cell_type": "code",
   "execution_count": 339,
   "id": "2172f524-024d-46c3-962e-c5f32390b526",
   "metadata": {},
   "outputs": [
    {
     "name": "stdout",
     "output_type": "stream",
     "text": [
      "Accuracy :  76.8276272579041\n"
     ]
    }
   ],
   "source": [
    "accuracy = predictions.filter(predictions.label == predictions.prediction).count() / float(predictions.count())\n",
    "print(\"Accuracy : \",accuracy*100)"
   ]
  },
  {
   "cell_type": "code",
   "execution_count": 340,
   "id": "bb9e4c47-9724-4306-95a3-e9e6662b2342",
   "metadata": {},
   "outputs": [
    {
     "data": {
      "image/png": "[encoded data removed]",
      "text/plain": [
       "<Figure size 432x288 with 1 Axes>"
      ]
     },
     "metadata": {},
     "output_type": "display_data"
    },
    {
     "name": "stdout",
     "output_type": "stream",
     "text": [
      "AUC of ROC: 0.8254757897461507\n"
     ]
    }
   ],
   "source": [
    "trainingSummary = lrModel.summary\n",
    "roc = trainingSummary.roc.toPandas()\n",
    "plt.plot(roc['FPR'],roc['TPR'])\n",
    "plt.ylabel('False Positive Rate')\n",
    "plt.xlabel('True Positive Rate')\n",
    "plt.title('ROC Curve')\n",
    "plt.show()\n",
    "print('AUC of ROC: ' + str(trainingSummary.areaUnderROC))"
   ]
  },
  {
   "cell_type": "code",
   "execution_count": 341,
   "id": "612d08cc-4829-4cc1-a3a4-b1628aa901f8",
   "metadata": {},
   "outputs": [
    {
     "name": "stdout",
     "output_type": "stream",
     "text": [
      "Test Area Under ROC 0.8269966531695889\n"
     ]
    }
   ],
   "source": [
    "from pyspark.ml.evaluation import BinaryClassificationEvaluator\n",
    "evaluator = BinaryClassificationEvaluator()\n",
    "print('Test Area Under ROC', evaluator.evaluate(predictions))"
   ]
  },
  {
   "cell_type": "code",
   "execution_count": null,
   "id": "8cf81057-54a1-446a-9782-2e1138fa406c",
   "metadata": {},
   "outputs": [],
   "source": []
  },
  {
   "cell_type": "code",
   "execution_count": null,
   "id": "5ac5db4c-9319-4246-bc90-8f66036f9f75",
   "metadata": {},
   "outputs": [],
   "source": [
    "#Decision Tree"
   ]
  },
  {
   "cell_type": "code",
   "execution_count": 343,
   "id": "67a4d3e1-5625-4056-85e7-96fddb9fb14c",
   "metadata": {},
   "outputs": [
    {
     "name": "stdout",
     "output_type": "stream",
     "text": [
      "+-----+--------------------+-------------------+----------+--------------------+\n",
      "|label|            features|      rawPrediction|prediction|         probability|\n",
      "+-----+--------------------+-------------------+----------+--------------------+\n",
      "|  0.0|(37,[2,32,33,34,3...|[206534.0,120527.0]|       0.0|[0.63148464659497...|\n",
      "|  1.0|(37,[1,32,33,34,3...|[206534.0,120527.0]|       0.0|[0.63148464659497...|\n",
      "|  0.0|(37,[21,32,33,34,...|[206534.0,120527.0]|       0.0|[0.63148464659497...|\n",
      "|  0.0|(37,[21,32,33,34,...| [13027.0,276987.0]|       1.0|[0.04491852117483...|\n",
      "|  0.0|(37,[22,32,33,34,...|[206534.0,120527.0]|       0.0|[0.63148464659497...|\n",
      "|  1.0|(37,[11,32,33,34,...|[206534.0,120527.0]|       0.0|[0.63148464659497...|\n",
      "|  1.0|(37,[4,32,33,34,3...|[473392.0,110862.0]|       0.0|[0.81025033632632...|\n",
      "|  0.0|(37,[2,32,33,34,3...|[206534.0,120527.0]|       0.0|[0.63148464659497...|\n",
      "|  0.0|(37,[7,32,33,34,3...|[206534.0,120527.0]|       0.0|[0.63148464659497...|\n",
      "|  0.0|(37,[1,32,33,34,3...|[206534.0,120527.0]|       0.0|[0.63148464659497...|\n",
      "+-----+--------------------+-------------------+----------+--------------------+\n",
      "only showing top 10 rows\n",
      "\n"
     ]
    }
   ],
   "source": [
    "from pyspark.ml.classification import DecisionTreeClassifier\n",
    "dt = DecisionTreeClassifier(featuresCol = 'features', labelCol = 'label', maxDepth = 7)\n",
    "dtModel = dt.fit(train)\n",
    "predictions_dt = dtModel.transform(test)\n",
    "predictions_dt.select('label', 'features',  'rawPrediction', 'prediction', 'probability').show(10)"
   ]
  },
  {
   "cell_type": "code",
   "execution_count": 344,
   "id": "37eee229-28fa-4071-87ff-45c2e08c44f3",
   "metadata": {},
   "outputs": [
    {
     "name": "stdout",
     "output_type": "stream",
     "text": [
      "Test Area Under ROC: 0.662372279628491\n"
     ]
    }
   ],
   "source": [
    "evaluator_dt = BinaryClassificationEvaluator()\n",
    "print(\"Test Area Under ROC: \" + str(evaluator_dt.evaluate(predictions_dt, {evaluator_dt.metricName: \"areaUnderROC\"})))"
   ]
  },
  {
   "cell_type": "code",
   "execution_count": 345,
   "id": "b3af9a23-739e-4114-aa79-cf7d66be4757",
   "metadata": {},
   "outputs": [
    {
     "name": "stdout",
     "output_type": "stream",
     "text": [
      "Accuracy :  77.01866355988899\n"
     ]
    }
   ],
   "source": [
    "accuracy_dt = predictions_dt.filter(predictions_dt.label == predictions_dt.prediction).count() / float(predictions_dt.count())\n",
    "print(\"Accuracy : \",accuracy_dt*100)"
   ]
  },
  {
   "cell_type": "code",
   "execution_count": 346,
   "id": "3840433c-0917-4552-b019-f812ebc1f8fe",
   "metadata": {},
   "outputs": [
    {
     "name": "stdout",
     "output_type": "stream",
     "text": [
      "Normalized confusion matrix\n",
      "[[0.60005122 0.39994878]\n",
      " [0.09773532 0.90226468]]\n"
     ]
    },
    {
     "data": {
      "image/png": "[encoded data removed]",
      "text/plain": [
       "<Figure size 432x288 with 2 Axes>"
      ]
     },
     "metadata": {},
     "output_type": "display_data"
    }
   ],
   "source": [
    "y_true = predictions_dt.select(\"label\")\n",
    "y_true = y_true.toPandas()\n",
    "\n",
    "y_pred = predictions_dt.select(\"prediction\")\n",
    "y_pred = y_pred.toPandas()\n",
    "\n",
    "cnf_matrix = confusion_matrix(y_true, y_pred,labels=class_names)\n",
    "#cnf_matrix\n",
    "plt.figure()\n",
    "plot_confusion_matrix(cnf_matrix, classes=class_names,\n",
    "                      title='Confusion matrix')\n",
    "plt.show()"
   ]
  },
  {
   "cell_type": "code",
   "execution_count": null,
   "id": "bee4b1f7-ab27-4752-b59b-2b3db0f56d92",
   "metadata": {},
   "outputs": [],
   "source": []
  },
  {
   "cell_type": "code",
   "execution_count": null,
   "id": "0a658ad6-7da6-4ecd-ba04-7cccecc467c9",
   "metadata": {},
   "outputs": [],
   "source": []
  }
 ],
 "metadata": {
  "kernelspec": {
   "display_name": "Python 3",
   "language": "python",
   "name": "python3"
  },
  "language_info": {
   "codemirror_mode": {
    "name": "ipython",
    "version": 3
   },
   "file_extension": ".py",
   "mimetype": "text/x-python",
   "name": "python",
   "nbconvert_exporter": "python",
   "pygments_lexer": "ipython3",
   "version": "3.8.5"
  }
 },
 "nbformat": 4,
 "nbformat_minor": 5
}
